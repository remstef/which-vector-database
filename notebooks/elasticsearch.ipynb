{
 "cells": [
  {
   "cell_type": "code",
   "execution_count": null,
   "id": "1a3299ee",
   "metadata": {},
   "outputs": [],
   "source": [
    "# requirements\n",
    "!pip3 install -U elasticsearch"
   ]
  },
  {
   "cell_type": "code",
   "execution_count": 1,
   "id": "21d80ed2",
   "metadata": {},
   "outputs": [],
   "source": [
    "import torch\n",
    "import re\n",
    "from urllib.parse import urlparse, parse_qs"
   ]
  },
  {
   "cell_type": "code",
   "execution_count": 2,
   "id": "0aa42e06",
   "metadata": {},
   "outputs": [],
   "source": [
    "from elasticsearch import Elasticsearch, helpers, NotFoundError"
   ]
  },
  {
   "cell_type": "code",
   "execution_count": 3,
   "id": "dfcbff4c-ccb5-4fde-a2b7-e6f867b4999e",
   "metadata": {},
   "outputs": [],
   "source": [
    "url = 'es://localhost:9200?dropifexists#mytestcollection'"
   ]
  },
  {
   "cell_type": "code",
   "execution_count": 4,
   "id": "a6e0562f-8e92-4105-8c09-31466914f691",
   "metadata": {},
   "outputs": [
    {
     "name": "stdout",
     "output_type": "stream",
     "text": [
      "ParseResult(scheme='es', netloc='localhost:9200', path='', params='', query='dropifexists', fragment='mytestcollection')\n",
      "{'dropifexists': ['']}\n",
      "http://localhost:9200\n",
      "True\n"
     ]
    }
   ],
   "source": [
    "o = urlparse(url, allow_fragments=True)\n",
    "qargs = parse_qs(o.query, keep_blank_values=True)\n",
    "print(o)\n",
    "print(qargs)\n",
    "\n",
    "# parse dropifexists param\n",
    "esuri = f'http://{o.netloc}'\n",
    "drop_if_exists = re.search('(^$)|(^1$)|(^t[rue]{,3}$)|(^y[es]{,2}$)', qargs['dropifexists'][0].lower()) is not None\n",
    "print(esuri)\n",
    "print(drop_if_exists)"
   ]
  },
  {
   "cell_type": "code",
   "execution_count": 39,
   "id": "20399990-8750-41b0-9313-c967d72161fc",
   "metadata": {},
   "outputs": [],
   "source": [
    "client = Elasticsearch(\n",
    "    hosts=[esuri],\n",
    "    basic_auth=('elastic', 'letmein')\n",
    ")"
   ]
  },
  {
   "cell_type": "code",
   "execution_count": 68,
   "id": "a3eaaaa0",
   "metadata": {},
   "outputs": [
    {
     "name": "stdout",
     "output_type": "stream",
     "text": [
      "Collection 'mytestcollection' exists.\n",
      "dropping\n",
      "re-creating\n",
      "{'acknowledged': True, 'shards_acknowledged': True, 'index': 'mytestcollection'}\n"
     ]
    }
   ],
   "source": [
    "def create_es_index():\n",
    "    mappings = {\n",
    "        'properties': {\n",
    "            'key': {\n",
    "                'type': 'integer'\n",
    "            },\n",
    "            'embedding': {\n",
    "                'type': 'dense_vector',\n",
    "                'dims': 5,\n",
    "                'index': 'true', # set to true if KNN search is desired, false otherwise\n",
    "                'index_options': {\n",
    "                    'type': 'int8_hnsw', # hnsw, int8_hnsw, flat, int8_flat\n",
    "                },\n",
    "                'similarity': 'cosine', # cosine, dot_product, l2_norm, max_inner_product, \n",
    "            }\n",
    "        }\n",
    "    }\n",
    "    settings = {\n",
    "        'number_of_replicas': 0 # default=1 but fails to resolve cluster status to GREEN in case of single-conde cluster\n",
    "    }\n",
    "    response = client.indices.create(index=o.fragment, mappings=mappings, settings=settings)\n",
    "    print(response)\n",
    "    return\n",
    "\n",
    "if client.indices.exists(index=o.fragment).body:\n",
    "    print(f\"Collection '{o.fragment}' exists.\")\n",
    "    if drop_if_exists:\n",
    "        print('dropping')\n",
    "        client.indices.delete(index=o.fragment)\n",
    "        #\n",
    "        print('re-creating')\n",
    "        create_es_index()\n",
    "\n",
    "else:\n",
    "    create_es_index()\n",
    "    \n"
   ]
  },
  {
   "cell_type": "code",
   "execution_count": 61,
   "id": "876103a4",
   "metadata": {},
   "outputs": [
    {
     "name": "stdout",
     "output_type": "stream",
     "text": [
      "{'_shards': {'total': 1, 'successful': 1, 'failed': 0}}\n",
      "{'_shards': {'total': 1, 'successful': 1, 'failed': 0}}\n",
      "{'mytestcollection': {'aliases': {}, 'mappings': {'properties': {'embedding': {'type': 'dense_vector', 'dims': 5, 'index': False}, 'key': {'type': 'integer'}}}, 'settings': {'index': {'routing': {'allocation': {'include': {'_tier_preference': 'data_content'}}}, 'number_of_shards': '1', 'provided_name': 'mytestcollection', 'creation_date': '1716383588754', 'number_of_replicas': '0', 'uuid': '9e8QTrWMRFSzwH31tgFeLg', 'version': {'created': '8503000'}}}}}\n",
      "{'mytestcollection': {'shards': [{'id': 0, 'type': 'EMPTY_STORE', 'stage': 'DONE', 'primary': True, 'start_time_in_millis': 1716383588881, 'stop_time_in_millis': 1716383588965, 'total_time_in_millis': 84, 'source': {}, 'target': {'id': 'SY8j7_DZRAqIujsEXVHZMA', 'host': '172.20.0.2', 'transport_address': '172.20.0.2:9300', 'ip': '172.20.0.2', 'name': 'esnode01'}, 'index': {'size': {'total_in_bytes': 0, 'reused_in_bytes': 0, 'recovered_in_bytes': 0, 'recovered_from_snapshot_in_bytes': 0, 'percent': '0.0%'}, 'files': {'total': 0, 'reused': 0, 'recovered': 0, 'percent': '0.0%'}, 'total_time_in_millis': 33, 'source_throttle_time_in_millis': 0, 'target_throttle_time_in_millis': 0}, 'translog': {'recovered': 0, 'total': 0, 'percent': '100.0%', 'total_on_start': 0, 'total_time_in_millis': 36}, 'verify_index': {'check_index_time_in_millis': 0, 'total_time_in_millis': 0}}]}}\n",
      "{'_shards': {'total': 1, 'successful': 1, 'failed': 0}}\n",
      "{'_shards': {'total': 1, 'successful': 1, 'failed': 0}, '_all': {'primaries': {'docs': {'count': 0, 'deleted': 0}, 'shard_stats': {'total_count': 1}, 'store': {'size_in_bytes': 227, 'total_data_set_size_in_bytes': 227, 'reserved_in_bytes': 0}, 'indexing': {'index_total': 0, 'index_time_in_millis': 0, 'index_current': 0, 'index_failed': 0, 'delete_total': 0, 'delete_time_in_millis': 0, 'delete_current': 0, 'noop_update_total': 0, 'is_throttled': False, 'throttle_time_in_millis': 0, 'write_load': 0.0}, 'get': {'total': 0, 'time_in_millis': 0, 'exists_total': 0, 'exists_time_in_millis': 0, 'missing_total': 0, 'missing_time_in_millis': 0, 'current': 0}, 'search': {'open_contexts': 0, 'query_total': 0, 'query_time_in_millis': 0, 'query_current': 0, 'fetch_total': 0, 'fetch_time_in_millis': 0, 'fetch_current': 0, 'scroll_total': 0, 'scroll_time_in_millis': 0, 'scroll_current': 0, 'suggest_total': 0, 'suggest_time_in_millis': 0, 'suggest_current': 0}, 'merges': {'current': 0, 'current_docs': 0, 'current_size_in_bytes': 0, 'total': 0, 'total_time_in_millis': 0, 'total_docs': 0, 'total_size_in_bytes': 0, 'total_stopped_time_in_millis': 0, 'total_throttled_time_in_millis': 0, 'total_auto_throttle_in_bytes': 20971520}, 'refresh': {'total': 3, 'total_time_in_millis': 0, 'external_total': 3, 'external_total_time_in_millis': 0, 'listeners': 0}, 'flush': {'total': 1, 'periodic': 0, 'total_time_in_millis': 0}, 'warmer': {'current': 0, 'total': 1, 'total_time_in_millis': 0}, 'query_cache': {'memory_size_in_bytes': 0, 'total_count': 0, 'hit_count': 0, 'miss_count': 0, 'cache_size': 0, 'cache_count': 0, 'evictions': 0}, 'fielddata': {'memory_size_in_bytes': 0, 'evictions': 0, 'global_ordinals': {'build_time_in_millis': 0}}, 'completion': {'size_in_bytes': 0}, 'segments': {'count': 0, 'memory_in_bytes': 0, 'terms_memory_in_bytes': 0, 'stored_fields_memory_in_bytes': 0, 'term_vectors_memory_in_bytes': 0, 'norms_memory_in_bytes': 0, 'points_memory_in_bytes': 0, 'doc_values_memory_in_bytes': 0, 'index_writer_memory_in_bytes': 0, 'version_map_memory_in_bytes': 0, 'fixed_bit_set_memory_in_bytes': 0, 'max_unsafe_auto_id_timestamp': -1, 'file_sizes': {}}, 'translog': {'operations': 0, 'size_in_bytes': 55, 'uncommitted_operations': 0, 'uncommitted_size_in_bytes': 55, 'earliest_last_modified_age': 1648}, 'request_cache': {'memory_size_in_bytes': 0, 'evictions': 0, 'hit_count': 0, 'miss_count': 0}, 'recovery': {'current_as_source': 0, 'current_as_target': 0, 'throttle_time_in_millis': 0}, 'bulk': {'total_operations': 0, 'total_time_in_millis': 0, 'total_size_in_bytes': 0, 'avg_time_in_millis': 0, 'avg_size_in_bytes': 0}, 'dense_vector': {'value_count': 0}}, 'total': {'docs': {'count': 0, 'deleted': 0}, 'shard_stats': {'total_count': 1}, 'store': {'size_in_bytes': 227, 'total_data_set_size_in_bytes': 227, 'reserved_in_bytes': 0}, 'indexing': {'index_total': 0, 'index_time_in_millis': 0, 'index_current': 0, 'index_failed': 0, 'delete_total': 0, 'delete_time_in_millis': 0, 'delete_current': 0, 'noop_update_total': 0, 'is_throttled': False, 'throttle_time_in_millis': 0, 'write_load': 0.0}, 'get': {'total': 0, 'time_in_millis': 0, 'exists_total': 0, 'exists_time_in_millis': 0, 'missing_total': 0, 'missing_time_in_millis': 0, 'current': 0}, 'search': {'open_contexts': 0, 'query_total': 0, 'query_time_in_millis': 0, 'query_current': 0, 'fetch_total': 0, 'fetch_time_in_millis': 0, 'fetch_current': 0, 'scroll_total': 0, 'scroll_time_in_millis': 0, 'scroll_current': 0, 'suggest_total': 0, 'suggest_time_in_millis': 0, 'suggest_current': 0}, 'merges': {'current': 0, 'current_docs': 0, 'current_size_in_bytes': 0, 'total': 0, 'total_time_in_millis': 0, 'total_docs': 0, 'total_size_in_bytes': 0, 'total_stopped_time_in_millis': 0, 'total_throttled_time_in_millis': 0, 'total_auto_throttle_in_bytes': 20971520}, 'refresh': {'total': 3, 'total_time_in_millis': 0, 'external_total': 3, 'external_total_time_in_millis': 0, 'listeners': 0}, 'flush': {'total': 1, 'periodic': 0, 'total_time_in_millis': 0}, 'warmer': {'current': 0, 'total': 1, 'total_time_in_millis': 0}, 'query_cache': {'memory_size_in_bytes': 0, 'total_count': 0, 'hit_count': 0, 'miss_count': 0, 'cache_size': 0, 'cache_count': 0, 'evictions': 0}, 'fielddata': {'memory_size_in_bytes': 0, 'evictions': 0, 'global_ordinals': {'build_time_in_millis': 0}}, 'completion': {'size_in_bytes': 0}, 'segments': {'count': 0, 'memory_in_bytes': 0, 'terms_memory_in_bytes': 0, 'stored_fields_memory_in_bytes': 0, 'term_vectors_memory_in_bytes': 0, 'norms_memory_in_bytes': 0, 'points_memory_in_bytes': 0, 'doc_values_memory_in_bytes': 0, 'index_writer_memory_in_bytes': 0, 'version_map_memory_in_bytes': 0, 'fixed_bit_set_memory_in_bytes': 0, 'max_unsafe_auto_id_timestamp': -1, 'file_sizes': {}}, 'translog': {'operations': 0, 'size_in_bytes': 55, 'uncommitted_operations': 0, 'uncommitted_size_in_bytes': 55, 'earliest_last_modified_age': 1648}, 'request_cache': {'memory_size_in_bytes': 0, 'evictions': 0, 'hit_count': 0, 'miss_count': 0}, 'recovery': {'current_as_source': 0, 'current_as_target': 0, 'throttle_time_in_millis': 0}, 'bulk': {'total_operations': 0, 'total_time_in_millis': 0, 'total_size_in_bytes': 0, 'avg_time_in_millis': 0, 'avg_size_in_bytes': 0}, 'dense_vector': {'value_count': 0}}}, 'indices': {'mytestcollection': {'uuid': '9e8QTrWMRFSzwH31tgFeLg', 'health': 'green', 'status': 'open', 'primaries': {'docs': {'count': 0, 'deleted': 0}, 'shard_stats': {'total_count': 1}, 'store': {'size_in_bytes': 227, 'total_data_set_size_in_bytes': 227, 'reserved_in_bytes': 0}, 'indexing': {'index_total': 0, 'index_time_in_millis': 0, 'index_current': 0, 'index_failed': 0, 'delete_total': 0, 'delete_time_in_millis': 0, 'delete_current': 0, 'noop_update_total': 0, 'is_throttled': False, 'throttle_time_in_millis': 0, 'write_load': 0.0}, 'get': {'total': 0, 'time_in_millis': 0, 'exists_total': 0, 'exists_time_in_millis': 0, 'missing_total': 0, 'missing_time_in_millis': 0, 'current': 0}, 'search': {'open_contexts': 0, 'query_total': 0, 'query_time_in_millis': 0, 'query_current': 0, 'fetch_total': 0, 'fetch_time_in_millis': 0, 'fetch_current': 0, 'scroll_total': 0, 'scroll_time_in_millis': 0, 'scroll_current': 0, 'suggest_total': 0, 'suggest_time_in_millis': 0, 'suggest_current': 0}, 'merges': {'current': 0, 'current_docs': 0, 'current_size_in_bytes': 0, 'total': 0, 'total_time_in_millis': 0, 'total_docs': 0, 'total_size_in_bytes': 0, 'total_stopped_time_in_millis': 0, 'total_throttled_time_in_millis': 0, 'total_auto_throttle_in_bytes': 20971520}, 'refresh': {'total': 3, 'total_time_in_millis': 0, 'external_total': 3, 'external_total_time_in_millis': 0, 'listeners': 0}, 'flush': {'total': 1, 'periodic': 0, 'total_time_in_millis': 0}, 'warmer': {'current': 0, 'total': 1, 'total_time_in_millis': 0}, 'query_cache': {'memory_size_in_bytes': 0, 'total_count': 0, 'hit_count': 0, 'miss_count': 0, 'cache_size': 0, 'cache_count': 0, 'evictions': 0}, 'fielddata': {'memory_size_in_bytes': 0, 'evictions': 0, 'global_ordinals': {'build_time_in_millis': 0}}, 'completion': {'size_in_bytes': 0}, 'segments': {'count': 0, 'memory_in_bytes': 0, 'terms_memory_in_bytes': 0, 'stored_fields_memory_in_bytes': 0, 'term_vectors_memory_in_bytes': 0, 'norms_memory_in_bytes': 0, 'points_memory_in_bytes': 0, 'doc_values_memory_in_bytes': 0, 'index_writer_memory_in_bytes': 0, 'version_map_memory_in_bytes': 0, 'fixed_bit_set_memory_in_bytes': 0, 'max_unsafe_auto_id_timestamp': -1, 'file_sizes': {}}, 'translog': {'operations': 0, 'size_in_bytes': 55, 'uncommitted_operations': 0, 'uncommitted_size_in_bytes': 55, 'earliest_last_modified_age': 1648}, 'request_cache': {'memory_size_in_bytes': 0, 'evictions': 0, 'hit_count': 0, 'miss_count': 0}, 'recovery': {'current_as_source': 0, 'current_as_target': 0, 'throttle_time_in_millis': 0}, 'bulk': {'total_operations': 0, 'total_time_in_millis': 0, 'total_size_in_bytes': 0, 'avg_time_in_millis': 0, 'avg_size_in_bytes': 0}, 'dense_vector': {'value_count': 0}}, 'total': {'docs': {'count': 0, 'deleted': 0}, 'shard_stats': {'total_count': 1}, 'store': {'size_in_bytes': 227, 'total_data_set_size_in_bytes': 227, 'reserved_in_bytes': 0}, 'indexing': {'index_total': 0, 'index_time_in_millis': 0, 'index_current': 0, 'index_failed': 0, 'delete_total': 0, 'delete_time_in_millis': 0, 'delete_current': 0, 'noop_update_total': 0, 'is_throttled': False, 'throttle_time_in_millis': 0, 'write_load': 0.0}, 'get': {'total': 0, 'time_in_millis': 0, 'exists_total': 0, 'exists_time_in_millis': 0, 'missing_total': 0, 'missing_time_in_millis': 0, 'current': 0}, 'search': {'open_contexts': 0, 'query_total': 0, 'query_time_in_millis': 0, 'query_current': 0, 'fetch_total': 0, 'fetch_time_in_millis': 0, 'fetch_current': 0, 'scroll_total': 0, 'scroll_time_in_millis': 0, 'scroll_current': 0, 'suggest_total': 0, 'suggest_time_in_millis': 0, 'suggest_current': 0}, 'merges': {'current': 0, 'current_docs': 0, 'current_size_in_bytes': 0, 'total': 0, 'total_time_in_millis': 0, 'total_docs': 0, 'total_size_in_bytes': 0, 'total_stopped_time_in_millis': 0, 'total_throttled_time_in_millis': 0, 'total_auto_throttle_in_bytes': 20971520}, 'refresh': {'total': 3, 'total_time_in_millis': 0, 'external_total': 3, 'external_total_time_in_millis': 0, 'listeners': 0}, 'flush': {'total': 1, 'periodic': 0, 'total_time_in_millis': 0}, 'warmer': {'current': 0, 'total': 1, 'total_time_in_millis': 0}, 'query_cache': {'memory_size_in_bytes': 0, 'total_count': 0, 'hit_count': 0, 'miss_count': 0, 'cache_size': 0, 'cache_count': 0, 'evictions': 0}, 'fielddata': {'memory_size_in_bytes': 0, 'evictions': 0, 'global_ordinals': {'build_time_in_millis': 0}}, 'completion': {'size_in_bytes': 0}, 'segments': {'count': 0, 'memory_in_bytes': 0, 'terms_memory_in_bytes': 0, 'stored_fields_memory_in_bytes': 0, 'term_vectors_memory_in_bytes': 0, 'norms_memory_in_bytes': 0, 'points_memory_in_bytes': 0, 'doc_values_memory_in_bytes': 0, 'index_writer_memory_in_bytes': 0, 'version_map_memory_in_bytes': 0, 'fixed_bit_set_memory_in_bytes': 0, 'max_unsafe_auto_id_timestamp': -1, 'file_sizes': {}}, 'translog': {'operations': 0, 'size_in_bytes': 55, 'uncommitted_operations': 0, 'uncommitted_size_in_bytes': 55, 'earliest_last_modified_age': 1648}, 'request_cache': {'memory_size_in_bytes': 0, 'evictions': 0, 'hit_count': 0, 'miss_count': 0}, 'recovery': {'current_as_source': 0, 'current_as_target': 0, 'throttle_time_in_millis': 0}, 'bulk': {'total_operations': 0, 'total_time_in_millis': 0, 'total_size_in_bytes': 0, 'avg_time_in_millis': 0, 'avg_size_in_bytes': 0}, 'dense_vector': {'value_count': 0}}}}}\n",
      "{'acknowledged': True, 'shards_acknowledged': True, 'indices': {'mytestcollection': {'closed': True}}}\n",
      "{'acknowledged': True, 'shards_acknowledged': True}\n",
      "{'acknowledged': True, 'persistent': {}, 'transient': {}}\n",
      "{'acknowledged': True, 'state': {'cluster_uuid': 'qDCDDpHhTx6N2Y26r7DgUw', 'version': 120, 'state_uuid': '0itMGHfzQICvNCWaubI6KQ', 'master_node': 'SY8j7_DZRAqIujsEXVHZMA', 'blocks': {}, 'nodes': {'SY8j7_DZRAqIujsEXVHZMA': {'name': 'esnode01', 'ephemeral_id': 'NZLA7RnwQVCFVxPPYZvVug', 'transport_address': '172.20.0.2:9300', 'external_id': 'esnode01', 'attributes': {'ml.machine_memory': '2147483648', 'transform.config_version': '10.0.0', 'xpack.installed': 'true', 'ml.config_version': '12.0.0', 'ml.max_jvm_size': '1073741824', 'ml.allocated_processors_double': '8.0', 'ml.allocated_processors': '8'}, 'roles': ['data', 'data_cold', 'data_content', 'data_frozen', 'data_hot', 'data_warm', 'ingest', 'master', 'ml', 'remote_cluster_client', 'transform'], 'version': '8.13.4', 'min_index_version': 7000099, 'max_index_version': 8503000}}, 'nodes_versions': [{'node_id': 'SY8j7_DZRAqIujsEXVHZMA', 'transport_version': '8595001', 'mappings_versions': {'.triggered_watches': {'version': 1, 'hash': -502826165}, '.secrets-inference': {'version': 1, 'hash': -1434574148}, '.fleet-agents-7': {'version': 1, 'hash': 1021268528}, '.fleet-servers-7': {'version': 1, 'hash': -916922632}, '.fleet-policies-leader-7': {'version': 1, 'hash': -1108172796}, '.ml-config': {'version': 1, 'hash': 1455005892}, '.security-tokens-7': {'version': 1, 'hash': 576296021}, '.geoip_databases': {'version': 1, 'hash': -305757839}, '.snapshot-blob-cache': {'version': 1, 'hash': 632712485}, '.security-profile-8': {'version': 2, 'hash': -909540896}, '.search-app-1': {'version': 1, 'hash': -501711141}, '.watches': {'version': 1, 'hash': -1045118511}, '.fleet-artifacts-7': {'version': 1, 'hash': -1593703898}, '.query-rules-1': {'version': 1, 'hash': 1647955624}, '.transform-internal-007': {'version': 1, 'hash': 1144737897}, '.fleet-enrollment-api-keys-7': {'version': 1, 'hash': -840564854}, '.fleet-actions-7': {'version': 1, 'hash': 961753072}, '.tasks': {'version': 0, 'hash': -945584329}, '.fleet-secrets-7': {'version': 1, 'hash': -745394230}, '.ml-meta': {'version': 1, 'hash': 976416370}, '.security-7': {'version': 1, 'hash': -1061511639}, '.connector-secrets-1': {'version': 1, 'hash': -745394230}, '.logstash': {'version': 1, 'hash': -1058806351}, '.ml-inference-000005': {'version': 3, 'hash': 919553140}, '.inference': {'version': 1, 'hash': 645017346}, '.async-search': {'version': 0, 'hash': -1403744380}, '.fleet-policies-7': {'version': 1, 'hash': 762674907}, '.synonyms-2': {'version': 1, 'hash': -888080772}}}], 'nodes_features': [{'node_id': 'SY8j7_DZRAqIujsEXVHZMA', 'features': ['data_stream.rollover.lazy', 'desired_node.version_deprecated', 'features_supported', 'health.dsl.info', 'health.extended_repository_indicator', 'usage.data_tiers.precalculate_stats']}], 'routing_table': {'indices': {'mytestcollection': {'shards': {'0': [{'state': 'STARTED', 'primary': True, 'node': 'SY8j7_DZRAqIujsEXVHZMA', 'relocating_node': None, 'shard': 0, 'index': 'mytestcollection', 'allocation_id': {'id': 'cNWDF9DLQz2d6krXSvEkwA'}, 'relocation_failure_info': {'failed_attempts': 0}}]}}, '.ds-.logs-deprecation.elasticsearch-default-2024.05.22-000001': {'shards': {'0': [{'state': 'STARTED', 'primary': True, 'node': 'SY8j7_DZRAqIujsEXVHZMA', 'relocating_node': None, 'shard': 0, 'index': '.ds-.logs-deprecation.elasticsearch-default-2024.05.22-000001', 'allocation_id': {'id': 'bVrcd_wgQees5KofHFlW1A'}, 'relocation_failure_info': {'failed_attempts': 0}}]}}, '.ds-ilm-history-7-2024.05.22-000001': {'shards': {'0': [{'state': 'STARTED', 'primary': True, 'node': 'SY8j7_DZRAqIujsEXVHZMA', 'relocating_node': None, 'shard': 0, 'index': '.ds-ilm-history-7-2024.05.22-000001', 'allocation_id': {'id': 'FAzyIx9uTEqRccsS8VNaZg'}, 'relocation_failure_info': {'failed_attempts': 0}}]}}}}, 'routing_nodes': {'unassigned': [], 'nodes': {'SY8j7_DZRAqIujsEXVHZMA': [{'state': 'STARTED', 'primary': True, 'node': 'SY8j7_DZRAqIujsEXVHZMA', 'relocating_node': None, 'shard': 0, 'index': 'mytestcollection', 'allocation_id': {'id': 'cNWDF9DLQz2d6krXSvEkwA'}, 'relocation_failure_info': {'failed_attempts': 0}}, {'state': 'STARTED', 'primary': True, 'node': 'SY8j7_DZRAqIujsEXVHZMA', 'relocating_node': None, 'shard': 0, 'index': '.ds-.logs-deprecation.elasticsearch-default-2024.05.22-000001', 'allocation_id': {'id': 'bVrcd_wgQees5KofHFlW1A'}, 'relocation_failure_info': {'failed_attempts': 0}}, {'state': 'STARTED', 'primary': True, 'node': 'SY8j7_DZRAqIujsEXVHZMA', 'relocating_node': None, 'shard': 0, 'index': '.ds-ilm-history-7-2024.05.22-000001', 'allocation_id': {'id': 'FAzyIx9uTEqRccsS8VNaZg'}, 'relocation_failure_info': {'failed_attempts': 0}}]}}, 'health': {'disk': {'high_watermark': '90%', 'high_max_headroom': '150gb', 'flood_stage_watermark': '95%', 'flood_stage_max_headroom': '100gb', 'frozen_flood_stage_watermark': '95%', 'frozen_flood_stage_max_headroom': '20gb'}, 'shard_limits': {'max_shards_per_node': 1000, 'max_shards_per_node_frozen': 3000}}, 'security_tokens': {}}}\n",
      "{'cluster_name': 'escluster01', 'status': 'green', 'timed_out': False, 'number_of_nodes': 1, 'number_of_data_nodes': 1, 'active_primary_shards': 3, 'active_shards': 3, 'relocating_shards': 0, 'initializing_shards': 0, 'unassigned_shards': 0, 'delayed_unassigned_shards': 0, 'number_of_pending_tasks': 0, 'number_of_in_flight_fetch': 0, 'task_max_waiting_in_queue_millis': 0, 'active_shards_percent_as_number': 100.0}\n",
      "cluster status: green\n",
      "{'_shards': {'total': 1, 'successful': 1, 'failed': 0}, '_all': {'primaries': {'docs': {'count': 0, 'deleted': 0}, 'shard_stats': {'total_count': 1}, 'store': {'size_in_bytes': 249, 'total_data_set_size_in_bytes': 249, 'reserved_in_bytes': 0}, 'indexing': {'index_total': 0, 'index_time_in_millis': 0, 'index_current': 0, 'index_failed': 0, 'delete_total': 0, 'delete_time_in_millis': 0, 'delete_current': 0, 'noop_update_total': 0, 'is_throttled': False, 'throttle_time_in_millis': 0, 'write_load': 0.0}, 'get': {'total': 0, 'time_in_millis': 0, 'exists_total': 0, 'exists_time_in_millis': 0, 'missing_total': 0, 'missing_time_in_millis': 0, 'current': 0}, 'search': {'open_contexts': 0, 'query_total': 0, 'query_time_in_millis': 0, 'query_current': 0, 'fetch_total': 0, 'fetch_time_in_millis': 0, 'fetch_current': 0, 'scroll_total': 0, 'scroll_time_in_millis': 0, 'scroll_current': 0, 'suggest_total': 0, 'suggest_time_in_millis': 0, 'suggest_current': 0}, 'merges': {'current': 0, 'current_docs': 0, 'current_size_in_bytes': 0, 'total': 0, 'total_time_in_millis': 0, 'total_docs': 0, 'total_size_in_bytes': 0, 'total_stopped_time_in_millis': 0, 'total_throttled_time_in_millis': 0, 'total_auto_throttle_in_bytes': 20971520}, 'refresh': {'total': 2, 'total_time_in_millis': 0, 'external_total': 2, 'external_total_time_in_millis': 0, 'listeners': 0}, 'flush': {'total': 0, 'periodic': 0, 'total_time_in_millis': 0}, 'warmer': {'current': 0, 'total': 1, 'total_time_in_millis': 0}, 'query_cache': {'memory_size_in_bytes': 0, 'total_count': 0, 'hit_count': 0, 'miss_count': 0, 'cache_size': 0, 'cache_count': 0, 'evictions': 0}, 'fielddata': {'memory_size_in_bytes': 0, 'evictions': 0, 'global_ordinals': {'build_time_in_millis': 0}}, 'completion': {'size_in_bytes': 0}, 'segments': {'count': 0, 'memory_in_bytes': 0, 'terms_memory_in_bytes': 0, 'stored_fields_memory_in_bytes': 0, 'term_vectors_memory_in_bytes': 0, 'norms_memory_in_bytes': 0, 'points_memory_in_bytes': 0, 'doc_values_memory_in_bytes': 0, 'index_writer_memory_in_bytes': 0, 'version_map_memory_in_bytes': 0, 'fixed_bit_set_memory_in_bytes': 0, 'max_unsafe_auto_id_timestamp': -1, 'file_sizes': {}}, 'translog': {'operations': 0, 'size_in_bytes': 55, 'uncommitted_operations': 0, 'uncommitted_size_in_bytes': 55, 'earliest_last_modified_age': 70}, 'request_cache': {'memory_size_in_bytes': 0, 'evictions': 0, 'hit_count': 0, 'miss_count': 0}, 'recovery': {'current_as_source': 0, 'current_as_target': 0, 'throttle_time_in_millis': 0}, 'bulk': {'total_operations': 0, 'total_time_in_millis': 0, 'total_size_in_bytes': 0, 'avg_time_in_millis': 0, 'avg_size_in_bytes': 0}, 'dense_vector': {'value_count': 0}}, 'total': {'docs': {'count': 0, 'deleted': 0}, 'shard_stats': {'total_count': 1}, 'store': {'size_in_bytes': 249, 'total_data_set_size_in_bytes': 249, 'reserved_in_bytes': 0}, 'indexing': {'index_total': 0, 'index_time_in_millis': 0, 'index_current': 0, 'index_failed': 0, 'delete_total': 0, 'delete_time_in_millis': 0, 'delete_current': 0, 'noop_update_total': 0, 'is_throttled': False, 'throttle_time_in_millis': 0, 'write_load': 0.0}, 'get': {'total': 0, 'time_in_millis': 0, 'exists_total': 0, 'exists_time_in_millis': 0, 'missing_total': 0, 'missing_time_in_millis': 0, 'current': 0}, 'search': {'open_contexts': 0, 'query_total': 0, 'query_time_in_millis': 0, 'query_current': 0, 'fetch_total': 0, 'fetch_time_in_millis': 0, 'fetch_current': 0, 'scroll_total': 0, 'scroll_time_in_millis': 0, 'scroll_current': 0, 'suggest_total': 0, 'suggest_time_in_millis': 0, 'suggest_current': 0}, 'merges': {'current': 0, 'current_docs': 0, 'current_size_in_bytes': 0, 'total': 0, 'total_time_in_millis': 0, 'total_docs': 0, 'total_size_in_bytes': 0, 'total_stopped_time_in_millis': 0, 'total_throttled_time_in_millis': 0, 'total_auto_throttle_in_bytes': 20971520}, 'refresh': {'total': 2, 'total_time_in_millis': 0, 'external_total': 2, 'external_total_time_in_millis': 0, 'listeners': 0}, 'flush': {'total': 0, 'periodic': 0, 'total_time_in_millis': 0}, 'warmer': {'current': 0, 'total': 1, 'total_time_in_millis': 0}, 'query_cache': {'memory_size_in_bytes': 0, 'total_count': 0, 'hit_count': 0, 'miss_count': 0, 'cache_size': 0, 'cache_count': 0, 'evictions': 0}, 'fielddata': {'memory_size_in_bytes': 0, 'evictions': 0, 'global_ordinals': {'build_time_in_millis': 0}}, 'completion': {'size_in_bytes': 0}, 'segments': {'count': 0, 'memory_in_bytes': 0, 'terms_memory_in_bytes': 0, 'stored_fields_memory_in_bytes': 0, 'term_vectors_memory_in_bytes': 0, 'norms_memory_in_bytes': 0, 'points_memory_in_bytes': 0, 'doc_values_memory_in_bytes': 0, 'index_writer_memory_in_bytes': 0, 'version_map_memory_in_bytes': 0, 'fixed_bit_set_memory_in_bytes': 0, 'max_unsafe_auto_id_timestamp': -1, 'file_sizes': {}}, 'translog': {'operations': 0, 'size_in_bytes': 55, 'uncommitted_operations': 0, 'uncommitted_size_in_bytes': 55, 'earliest_last_modified_age': 70}, 'request_cache': {'memory_size_in_bytes': 0, 'evictions': 0, 'hit_count': 0, 'miss_count': 0}, 'recovery': {'current_as_source': 0, 'current_as_target': 0, 'throttle_time_in_millis': 0}, 'bulk': {'total_operations': 0, 'total_time_in_millis': 0, 'total_size_in_bytes': 0, 'avg_time_in_millis': 0, 'avg_size_in_bytes': 0}, 'dense_vector': {'value_count': 0}}}, 'indices': {'mytestcollection': {'uuid': '9e8QTrWMRFSzwH31tgFeLg', 'health': 'green', 'status': 'open', 'primaries': {'docs': {'count': 0, 'deleted': 0}, 'shard_stats': {'total_count': 1}, 'store': {'size_in_bytes': 249, 'total_data_set_size_in_bytes': 249, 'reserved_in_bytes': 0}, 'indexing': {'index_total': 0, 'index_time_in_millis': 0, 'index_current': 0, 'index_failed': 0, 'delete_total': 0, 'delete_time_in_millis': 0, 'delete_current': 0, 'noop_update_total': 0, 'is_throttled': False, 'throttle_time_in_millis': 0, 'write_load': 0.0}, 'get': {'total': 0, 'time_in_millis': 0, 'exists_total': 0, 'exists_time_in_millis': 0, 'missing_total': 0, 'missing_time_in_millis': 0, 'current': 0}, 'search': {'open_contexts': 0, 'query_total': 0, 'query_time_in_millis': 0, 'query_current': 0, 'fetch_total': 0, 'fetch_time_in_millis': 0, 'fetch_current': 0, 'scroll_total': 0, 'scroll_time_in_millis': 0, 'scroll_current': 0, 'suggest_total': 0, 'suggest_time_in_millis': 0, 'suggest_current': 0}, 'merges': {'current': 0, 'current_docs': 0, 'current_size_in_bytes': 0, 'total': 0, 'total_time_in_millis': 0, 'total_docs': 0, 'total_size_in_bytes': 0, 'total_stopped_time_in_millis': 0, 'total_throttled_time_in_millis': 0, 'total_auto_throttle_in_bytes': 20971520}, 'refresh': {'total': 2, 'total_time_in_millis': 0, 'external_total': 2, 'external_total_time_in_millis': 0, 'listeners': 0}, 'flush': {'total': 0, 'periodic': 0, 'total_time_in_millis': 0}, 'warmer': {'current': 0, 'total': 1, 'total_time_in_millis': 0}, 'query_cache': {'memory_size_in_bytes': 0, 'total_count': 0, 'hit_count': 0, 'miss_count': 0, 'cache_size': 0, 'cache_count': 0, 'evictions': 0}, 'fielddata': {'memory_size_in_bytes': 0, 'evictions': 0, 'global_ordinals': {'build_time_in_millis': 0}}, 'completion': {'size_in_bytes': 0}, 'segments': {'count': 0, 'memory_in_bytes': 0, 'terms_memory_in_bytes': 0, 'stored_fields_memory_in_bytes': 0, 'term_vectors_memory_in_bytes': 0, 'norms_memory_in_bytes': 0, 'points_memory_in_bytes': 0, 'doc_values_memory_in_bytes': 0, 'index_writer_memory_in_bytes': 0, 'version_map_memory_in_bytes': 0, 'fixed_bit_set_memory_in_bytes': 0, 'max_unsafe_auto_id_timestamp': -1, 'file_sizes': {}}, 'translog': {'operations': 0, 'size_in_bytes': 55, 'uncommitted_operations': 0, 'uncommitted_size_in_bytes': 55, 'earliest_last_modified_age': 70}, 'request_cache': {'memory_size_in_bytes': 0, 'evictions': 0, 'hit_count': 0, 'miss_count': 0}, 'recovery': {'current_as_source': 0, 'current_as_target': 0, 'throttle_time_in_millis': 0}, 'bulk': {'total_operations': 0, 'total_time_in_millis': 0, 'total_size_in_bytes': 0, 'avg_time_in_millis': 0, 'avg_size_in_bytes': 0}, 'dense_vector': {'value_count': 0}}, 'total': {'docs': {'count': 0, 'deleted': 0}, 'shard_stats': {'total_count': 1}, 'store': {'size_in_bytes': 249, 'total_data_set_size_in_bytes': 249, 'reserved_in_bytes': 0}, 'indexing': {'index_total': 0, 'index_time_in_millis': 0, 'index_current': 0, 'index_failed': 0, 'delete_total': 0, 'delete_time_in_millis': 0, 'delete_current': 0, 'noop_update_total': 0, 'is_throttled': False, 'throttle_time_in_millis': 0, 'write_load': 0.0}, 'get': {'total': 0, 'time_in_millis': 0, 'exists_total': 0, 'exists_time_in_millis': 0, 'missing_total': 0, 'missing_time_in_millis': 0, 'current': 0}, 'search': {'open_contexts': 0, 'query_total': 0, 'query_time_in_millis': 0, 'query_current': 0, 'fetch_total': 0, 'fetch_time_in_millis': 0, 'fetch_current': 0, 'scroll_total': 0, 'scroll_time_in_millis': 0, 'scroll_current': 0, 'suggest_total': 0, 'suggest_time_in_millis': 0, 'suggest_current': 0}, 'merges': {'current': 0, 'current_docs': 0, 'current_size_in_bytes': 0, 'total': 0, 'total_time_in_millis': 0, 'total_docs': 0, 'total_size_in_bytes': 0, 'total_stopped_time_in_millis': 0, 'total_throttled_time_in_millis': 0, 'total_auto_throttle_in_bytes': 20971520}, 'refresh': {'total': 2, 'total_time_in_millis': 0, 'external_total': 2, 'external_total_time_in_millis': 0, 'listeners': 0}, 'flush': {'total': 0, 'periodic': 0, 'total_time_in_millis': 0}, 'warmer': {'current': 0, 'total': 1, 'total_time_in_millis': 0}, 'query_cache': {'memory_size_in_bytes': 0, 'total_count': 0, 'hit_count': 0, 'miss_count': 0, 'cache_size': 0, 'cache_count': 0, 'evictions': 0}, 'fielddata': {'memory_size_in_bytes': 0, 'evictions': 0, 'global_ordinals': {'build_time_in_millis': 0}}, 'completion': {'size_in_bytes': 0}, 'segments': {'count': 0, 'memory_in_bytes': 0, 'terms_memory_in_bytes': 0, 'stored_fields_memory_in_bytes': 0, 'term_vectors_memory_in_bytes': 0, 'norms_memory_in_bytes': 0, 'points_memory_in_bytes': 0, 'doc_values_memory_in_bytes': 0, 'index_writer_memory_in_bytes': 0, 'version_map_memory_in_bytes': 0, 'fixed_bit_set_memory_in_bytes': 0, 'max_unsafe_auto_id_timestamp': -1, 'file_sizes': {}}, 'translog': {'operations': 0, 'size_in_bytes': 55, 'uncommitted_operations': 0, 'uncommitted_size_in_bytes': 55, 'earliest_last_modified_age': 70}, 'request_cache': {'memory_size_in_bytes': 0, 'evictions': 0, 'hit_count': 0, 'miss_count': 0}, 'recovery': {'current_as_source': 0, 'current_as_target': 0, 'throttle_time_in_millis': 0}, 'bulk': {'total_operations': 0, 'total_time_in_millis': 0, 'total_size_in_bytes': 0, 'avg_time_in_millis': 0, 'avg_size_in_bytes': 0}, 'dense_vector': {'value_count': 0}}}}}\n",
      "index status: green\n",
      "3 20.7kb 263.4gb 197gb 460.4gb 57 172.20.0.2 172.20.0.2 esnode01 cdfhilmrstw\n",
      "\n"
     ]
    },
    {
     "name": "stderr",
     "output_type": "stream",
     "text": [
      "/var/folders/3p/vghkpb_11h7575_l331phcbw0000gn/T/ipykernel_95878/2522536233.py:29: ElasticsearchWarning: The [state] field in the response to the reroute API is deprecated and will be removed in a future version. Specify ?metric=none to adopt the future behaviour.\n",
      "  response = client.cluster.reroute(metric=None)\n"
     ]
    }
   ],
   "source": [
    "# utilities\n",
    "response = client.indices.clear_cache(index=o.fragment)\n",
    "print(response)\n",
    "\n",
    "response = client.indices.flush(index=o.fragment)\n",
    "print(response)\n",
    "\n",
    "response = client.indices.get(index=o.fragment)\n",
    "print(response)\n",
    "\n",
    "response = client.indices.recovery(index=o.fragment)\n",
    "print(response)\n",
    "\n",
    "response = client.indices.refresh(index=o.fragment)\n",
    "print(response)\n",
    "\n",
    "response = client.indices.stats(index=o.fragment)\n",
    "print(response)\n",
    "\n",
    "response = client.indices.close(index=o.fragment)\n",
    "print(response)\n",
    "\n",
    "response = client.indices.open(index=o.fragment)\n",
    "print(response)\n",
    "\n",
    "response = client.cluster.put_settings(persistent={'cluster.routing.allocation.enable': None})\n",
    "print(response)\n",
    "\n",
    "response = client.cluster.reroute(metric=None)\n",
    "print(response)\n",
    "\n",
    "response = client.cluster.health()\n",
    "print(response)\n",
    "print(f'cluster status: {response['status']}')\n",
    "\n",
    "response = client.indices.stats(index=o.fragment)\n",
    "print(response)\n",
    "print(f'index status: {response['indices'][o.fragment]['health']}')\n",
    "\n",
    "response = client.cat.allocation()\n",
    "print(response)\n",
    "\n",
    "# response = client.cluster.put_settings(body={'index.routing.allocation.disable_allocation': False})\n",
    "# print(response)\n",
    "# \"number_of_replicas\" : 0\n",
    "\n"
   ]
  },
  {
   "cell_type": "code",
   "execution_count": 62,
   "id": "d108cce5-5acb-4842-89ba-9bedd19c9d18",
   "metadata": {},
   "outputs": [
    {
     "name": "stdout",
     "output_type": "stream",
     "text": [
      "torch.Size([10000, 5])\n"
     ]
    }
   ],
   "source": [
    "a = torch.rand(int(1e4), 5)\n",
    "print(a.size())"
   ]
  },
  {
   "cell_type": "code",
   "execution_count": 70,
   "id": "09630ae4-ca2a-492d-becd-0077faa30991",
   "metadata": {},
   "outputs": [
    {
     "name": "stdout",
     "output_type": "stream",
     "text": [
      "(5000, [])\n",
      "(5000, [])\n"
     ]
    }
   ],
   "source": [
    "## add data in a bulk\n",
    "# document list \n",
    "actions = [ {'_index': o.fragment, '_id': i, 'key': i, 'embedding': a[i].tolist() } for i in range(int(5e3)) ] \n",
    "response = helpers.bulk(client=client, actions=actions)\n",
    "print(response)\n",
    "\n",
    "# # document generator\n",
    "actions_gen = map(lambda i: {'_index': o.fragment, '_id': i, 'key': i, 'embedding': a[i].tolist() }, range(int(5e3), int(1e4)) )\n",
    "response = helpers.bulk(client=client, actions=actions_gen)\n",
    "print(response)\n"
   ]
  },
  {
   "cell_type": "code",
   "execution_count": 71,
   "id": "26f43bfd",
   "metadata": {},
   "outputs": [
    {
     "name": "stdout",
     "output_type": "stream",
     "text": [
      "{'_index': 'mytestcollection', '_id': '4', '_version': 3, 'result': 'deleted', '_shards': {'total': 1, 'successful': 1, 'failed': 0}, '_seq_no': 15000, '_primary_term': 1}\n",
      "{'_index': 'mytestcollection', '_id': '5', '_version': 3, 'result': 'deleted', '_shards': {'total': 1, 'successful': 1, 'failed': 0}, '_seq_no': 15001, '_primary_term': 1}\n",
      "{'_index': 'mytestcollection', '_id': '6', '_version': 3, 'result': 'deleted', '_shards': {'total': 1, 'successful': 1, 'failed': 0}, '_seq_no': 15002, '_primary_term': 1}\n"
     ]
    }
   ],
   "source": [
    "# delete some ids single step\n",
    "ids_to_delete = [4,5,6]\n",
    "for i in ids_to_delete:\n",
    "    try:\n",
    "        response = client.delete(index=o.fragment, id=i)\n",
    "        print(response)\n",
    "    except NotFoundError as err:\n",
    "        print(f'{type(err)}, {err.message}, {err.body}')\n"
   ]
  },
  {
   "cell_type": "code",
   "execution_count": 29,
   "id": "896d8aca",
   "metadata": {},
   "outputs": [
    {
     "name": "stdout",
     "output_type": "stream",
     "text": [
      "{'took': 5, 'timed_out': False, 'total': 0, 'deleted': 0, 'batches': 0, 'version_conflicts': 0, 'noops': 0, 'retries': {'bulk': 0, 'search': 0}, 'throttled_millis': 0, 'requests_per_second': -1.0, 'throttled_until_millis': 0, 'failures': []}\n"
     ]
    }
   ],
   "source": [
    "# delete multiple ids at once\n",
    "more_ids_to_delete = [40,50,60]\n",
    "response = client.delete_by_query(\n",
    "    index=o.fragment,\n",
    "    query={'terms': {'key': more_ids_to_delete}}\n",
    ")\n",
    "print(response)"
   ]
  },
  {
   "cell_type": "code",
   "execution_count": 30,
   "id": "6b0d0def",
   "metadata": {},
   "outputs": [
    {
     "name": "stdout",
     "output_type": "stream",
     "text": [
      "{'took': 26, 'timed_out': False, 'total': 3, 'deleted': 3, 'batches': 1, 'version_conflicts': 0, 'noops': 0, 'retries': {'bulk': 0, 'search': 0}, 'throttled_millis': 0, 'requests_per_second': -1.0, 'throttled_until_millis': 0, 'failures': []}\n"
     ]
    }
   ],
   "source": [
    "even_more_ids_to_delete = [41,51,61]\n",
    "response = client.delete_by_query(\n",
    "    index=o.fragment,\n",
    "    query={'terms': {'_id': even_more_ids_to_delete}}\n",
    ")\n",
    "print(response)"
   ]
  },
  {
   "cell_type": "code",
   "execution_count": 31,
   "id": "280bb211",
   "metadata": {},
   "outputs": [
    {
     "name": "stdout",
     "output_type": "stream",
     "text": [
      "{'_index': 'mytestcollection', '_id': '1', '_version': 3, '_seq_no': 20026, '_primary_term': 5, 'found': True, '_source': {'key': 1, 'embedding': [0.5171189904212952, 0.5124468207359314, 0.6883494257926941, 0.697633683681488, 0.5548747777938843]}}\n"
     ]
    }
   ],
   "source": [
    "# retrieve documents with ID\n",
    "response = client.get(\n",
    "    index=o.fragment, \n",
    "    id=1\n",
    ")\n",
    "print(response)"
   ]
  },
  {
   "cell_type": "code",
   "execution_count": 32,
   "id": "1eff9ed3",
   "metadata": {},
   "outputs": [
    {
     "name": "stdout",
     "output_type": "stream",
     "text": [
      "{'docs': [{'_index': 'mytestcollection', '_id': '0', '_version': 3, '_seq_no': 20025, '_primary_term': 5, 'found': True, '_source': {'key': 0, 'embedding': [0.9673076272010803, 0.19709092378616333, 0.3503369092941284, 0.8820860385894775, 0.9244221448898315]}}, {'_index': 'mytestcollection', '_id': '1', '_version': 3, '_seq_no': 20026, '_primary_term': 5, 'found': True, '_source': {'key': 1, 'embedding': [0.5171189904212952, 0.5124468207359314, 0.6883494257926941, 0.697633683681488, 0.5548747777938843]}}, {'_index': 'mytestcollection', '_id': '4', 'found': False}, {'_index': 'mytestcollection', '_id': '5', 'found': False}, {'_index': 'mytestcollection', '_id': '8', '_version': 3, '_seq_no': 20033, '_primary_term': 5, 'found': True, '_source': {'key': 8, 'embedding': [0.8588331341743469, 0.7824482917785645, 0.7422242164611816, 0.40977078676223755, 0.6987150311470032]}}, {'_index': 'mytestcollection', '_id': '4139812', 'found': False}, {'_index': 'mytestcollection', '_id': '1', '_version': 3, '_seq_no': 20026, '_primary_term': 5, 'found': True, '_source': {'key': 1, 'embedding': [0.5171189904212952, 0.5124468207359314, 0.6883494257926941, 0.697633683681488, 0.5548747777938843]}}]}\n"
     ]
    }
   ],
   "source": [
    "# get multiple documents with IDs\n",
    "ids_to_retrieve = [0,1,4,5,8,4139812,1]\n",
    "response = client.mget(\n",
    "    index=o.fragment, \n",
    "    ids=ids_to_retrieve\n",
    ")\n",
    "print(response)"
   ]
  },
  {
   "cell_type": "code",
   "execution_count": 33,
   "id": "d763957f",
   "metadata": {},
   "outputs": [
    {
     "name": "stdout",
     "output_type": "stream",
     "text": [
      "torch.Size([4, 5])\n"
     ]
    }
   ],
   "source": [
    "b = torch.tensor([d['_source']['embedding'] for d in response['docs'] if d['found']], dtype=torch.float)\n",
    "print(b.size())\n"
   ]
  },
  {
   "cell_type": "code",
   "execution_count": 72,
   "id": "39cd117c",
   "metadata": {},
   "outputs": [
    {
     "name": "stdout",
     "output_type": "stream",
     "text": [
      "{'took': 3, 'timed_out': False, '_shards': {'total': 1, 'successful': 1, 'skipped': 0, 'failed': 0}, 'hits': {'total': {'value': 1, 'relation': 'eq'}, 'max_score': 1.0, 'hits': [{'_index': 'mytestcollection', '_id': '1', '_score': 1.0, '_source': {'key': 1, 'embedding': [0.08199286460876465, 0.37916743755340576, 0.8131399154663086, 0.3192172050476074, 0.40480709075927734]}}]}}\n"
     ]
    }
   ],
   "source": [
    "# terms api single key\n",
    "response=client.search(\n",
    "    index=o.fragment,\n",
    "    query={'term': {'key': 1}}\n",
    ")\n",
    "print(response)\n"
   ]
  },
  {
   "cell_type": "code",
   "execution_count": 74,
   "id": "279a2c7f",
   "metadata": {},
   "outputs": [
    {
     "name": "stdout",
     "output_type": "stream",
     "text": [
      "{'took': 3, 'timed_out': False, '_shards': {'total': 1, 'successful': 1, 'skipped': 0, 'failed': 0}, 'hits': {'total': {'value': 3, 'relation': 'eq'}, 'max_score': 1.0, 'hits': [{'_index': 'mytestcollection', '_id': '0', '_score': 1.0, '_source': {'key': 0, 'embedding': [0.5990166664123535, 0.06569528579711914, 0.33004242181777954, 0.5136980414390564, 0.7231322526931763]}}, {'_index': 'mytestcollection', '_id': '1', '_score': 1.0, '_source': {'key': 1, 'embedding': [0.08199286460876465, 0.37916743755340576, 0.8131399154663086, 0.3192172050476074, 0.40480709075927734]}}, {'_index': 'mytestcollection', '_id': '8', '_score': 1.0, '_source': {'key': 8, 'embedding': [0.9858206510543823, 0.4045566916465759, 0.6138359308242798, 0.7088015079498291, 0.960491955280304]}}]}}\n"
     ]
    }
   ],
   "source": [
    "# terms api multiple keys\n",
    "response=client.search(\n",
    "    index=o.fragment,\n",
    "    query={'terms': {'key': ids_to_retrieve}}\n",
    ")\n",
    "print(response)"
   ]
  },
  {
   "cell_type": "code",
   "execution_count": 47,
   "id": "3d52ce71",
   "metadata": {},
   "outputs": [
    {
     "name": "stdout",
     "output_type": "stream",
     "text": [
      "{'count': 0, '_shards': {'total': 1, 'successful': 1, 'skipped': 0, 'failed': 0}}\n"
     ]
    }
   ],
   "source": [
    "# get count \n",
    "response = client.count(index=o.fragment)\n",
    "print(response)"
   ]
  },
  {
   "cell_type": "code",
   "execution_count": 48,
   "id": "07f3aae6",
   "metadata": {},
   "outputs": [
    {
     "name": "stdout",
     "output_type": "stream",
     "text": [
      "{'name': 'esnode01', 'cluster_name': 'escluster01', 'cluster_uuid': 'qDCDDpHhTx6N2Y26r7DgUw', 'version': {'number': '8.13.4', 'build_flavor': 'default', 'build_type': 'docker', 'build_hash': 'da95df118650b55a500dcc181889ac35c6d8da7c', 'build_date': '2024-05-06T22:04:45.107454559Z', 'build_snapshot': False, 'lucene_version': '9.10.0', 'minimum_wire_compatibility_version': '7.17.0', 'minimum_index_compatibility_version': '7.0.0'}, 'tagline': 'You Know, for Search'}\n",
      "1716383435 13:10:35 escluster01 green 1 1 3 3 0 0 0 0 - 100.0%\n",
      "\n"
     ]
    }
   ],
   "source": [
    "# gather some info\n",
    "print(client.info())\n",
    "print(client.cat.health())"
   ]
  },
  {
   "cell_type": "code",
   "execution_count": 37,
   "id": "3bb50028",
   "metadata": {},
   "outputs": [],
   "source": [
    "# finally close connections\n",
    "client.close()"
   ]
  },
  {
   "cell_type": "code",
   "execution_count": null,
   "id": "ba1d6b64",
   "metadata": {},
   "outputs": [],
   "source": [
    "# KNN search\n",
    "# response = client.search(\n",
    "#     index=\"book_index\",\n",
    "#     knn={\n",
    "#         \"field\": \"title_vector\",\n",
    "#         \"query_vector\": model.encode(\"javascript books\"),\n",
    "#         \"k\": 10,\n",
    "#         \"num_candidates\": 100,\n",
    "#     },\n",
    "# )\n",
    "#\n",
    "\n",
    "# KNN with filter on field\n",
    "# response = client.search(\n",
    "#     index=\"book_index\",\n",
    "#     knn={\n",
    "#         \"field\": \"title_vector\",\n",
    "#         \"query_vector\": model.encode(\"javascript books\"),\n",
    "#         \"k\": 10,\n",
    "#         \"num_candidates\": 100,\n",
    "#         \"filter\": {\"term\": {\"publisher.keyword\": \"addison-wesley\"}},\n",
    "#     },\n",
    "# )\n"
   ]
  },
  {
   "cell_type": "code",
   "execution_count": null,
   "id": "6c20098d",
   "metadata": {},
   "outputs": [],
   "source": [
    "# HYBRID SEARCH\n",
    "# response = client.search(\n",
    "#     index=\"book_index\",\n",
    "#     size=5,\n",
    "#     query={\"match\": {\"summary\": \"python programming\"}},\n",
    "#     knn={\n",
    "#         \"field\": \"title_vector\",\n",
    "#         \"query_vector\": model.encode(\n",
    "#             \"python programming\"\n",
    "#         ).tolist(),  # generate embedding for query so it can be compared to `title_vector`\n",
    "#         \"k\": 5,\n",
    "#         \"num_candidates\": 10,\n",
    "#     },\n",
    "#     rank={\"rrf\": {}},\n",
    "# )"
   ]
  }
 ],
 "metadata": {
  "kernelspec": {
   "display_name": "Python 3 (ipykernel)",
   "language": "python",
   "name": "python3"
  },
  "language_info": {
   "codemirror_mode": {
    "name": "ipython",
    "version": 3
   },
   "file_extension": ".py",
   "mimetype": "text/x-python",
   "name": "python",
   "nbconvert_exporter": "python",
   "pygments_lexer": "ipython3",
   "version": "3.12.3"
  }
 },
 "nbformat": 4,
 "nbformat_minor": 5
}
