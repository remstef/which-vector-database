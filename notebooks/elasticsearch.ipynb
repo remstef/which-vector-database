{
 "cells": [
  {
   "cell_type": "code",
   "execution_count": null,
   "id": "1a3299ee",
   "metadata": {},
   "outputs": [],
   "source": [
    "# requirements\n",
    "!pip3 install -U elasticsearch"
   ]
  },
  {
   "cell_type": "code",
   "execution_count": null,
   "id": "21d80ed2",
   "metadata": {},
   "outputs": [],
   "source": [
    "import torch\n",
    "import re\n",
    "from urllib.parse import urlparse, parse_qs"
   ]
  },
  {
   "cell_type": "code",
   "execution_count": null,
   "id": "0aa42e06",
   "metadata": {},
   "outputs": [],
   "source": [
    "from elasticsearch import Elasticsearch, helpers, NotFoundError"
   ]
  },
  {
   "cell_type": "code",
   "execution_count": null,
   "id": "dfcbff4c-ccb5-4fde-a2b7-e6f867b4999e",
   "metadata": {},
   "outputs": [],
   "source": [
    "url = 'es://localhost:9200?dropifexists#mytestcollection'"
   ]
  },
  {
   "cell_type": "code",
   "execution_count": null,
   "id": "a6e0562f-8e92-4105-8c09-31466914f691",
   "metadata": {},
   "outputs": [],
   "source": [
    "o = urlparse(url, allow_fragments=True)\n",
    "qargs = parse_qs(o.query, keep_blank_values=True)\n",
    "print(o)\n",
    "print(qargs)\n",
    "\n",
    "# parse dropifexists param\n",
    "esuri = f'http://{o.netloc}'\n",
    "drop_if_exists = re.search('(^$)|(^1$)|(^t[rue]{,3}$)|(^y[es]{,2}$)', qargs['dropifexists'][0].lower()) is not None\n",
    "print(esuri)\n",
    "print(drop_if_exists)"
   ]
  },
  {
   "cell_type": "code",
   "execution_count": null,
   "id": "20399990-8750-41b0-9313-c967d72161fc",
   "metadata": {},
   "outputs": [],
   "source": [
    "client = Elasticsearch(\n",
    "    hosts=[esuri],\n",
    "    basic_auth=('elastic', 'letmein')\n",
    ")"
   ]
  },
  {
   "cell_type": "code",
   "execution_count": null,
   "id": "a3eaaaa0",
   "metadata": {},
   "outputs": [],
   "source": [
    "def create_es_index():\n",
    "    mappings = {\n",
    "        'properties': {\n",
    "            'key': {\n",
    "                'type': 'integer'\n",
    "            },\n",
    "            'embedding': {\n",
    "                'type': 'dense_vector',\n",
    "                'dims': 5,\n",
    "                'index': 'true', # set to true if KNN search is desired, false otherwise\n",
    "                'index_options': {\n",
    "                    'type': 'int8_hnsw', # hnsw, int8_hnsw, flat, int8_flat\n",
    "                },\n",
    "                'similarity': 'cosine', # cosine, dot_product, l2_norm, max_inner_product, \n",
    "            }\n",
    "        }\n",
    "    }\n",
    "    settings = {\n",
    "        'number_of_replicas': 0 # default=1 but fails to resolve cluster status to GREEN in case of single-conde cluster\n",
    "    }\n",
    "    response = client.indices.create(index=o.fragment, mappings=mappings, settings=settings)\n",
    "    print(response)\n",
    "    return\n",
    "\n",
    "if client.indices.exists(index=o.fragment).body:\n",
    "    print(f\"Collection '{o.fragment}' exists.\")\n",
    "    if drop_if_exists:\n",
    "        print('dropping')\n",
    "        client.indices.delete(index=o.fragment)\n",
    "        #\n",
    "        print('re-creating')\n",
    "        create_es_index()\n",
    "\n",
    "else:\n",
    "    create_es_index()\n",
    "    \n"
   ]
  },
  {
   "cell_type": "code",
   "execution_count": null,
   "id": "876103a4",
   "metadata": {},
   "outputs": [],
   "source": [
    "# utilities\n",
    "response = client.indices.clear_cache(index=o.fragment)\n",
    "print(response)\n",
    "\n",
    "response = client.indices.flush(index=o.fragment)\n",
    "print(response)\n",
    "\n",
    "response = client.indices.get(index=o.fragment)\n",
    "print(response)\n",
    "\n",
    "response = client.indices.recovery(index=o.fragment)\n",
    "print(response)\n",
    "\n",
    "response = client.indices.refresh(index=o.fragment)\n",
    "print(response)\n",
    "\n",
    "response = client.indices.stats(index=o.fragment)\n",
    "print(response)\n",
    "\n",
    "response = client.indices.close(index=o.fragment)\n",
    "print(response)\n",
    "\n",
    "response = client.indices.open(index=o.fragment)\n",
    "print(response)\n",
    "\n",
    "response = client.cluster.put_settings(persistent={'cluster.routing.allocation.enable': None})\n",
    "print(response)\n",
    "\n",
    "response = client.cluster.reroute(metric=None)\n",
    "print(response)\n",
    "\n",
    "response = client.cluster.health()\n",
    "print(response)\n",
    "print(f'cluster status: {response['status']}')\n",
    "\n",
    "response = client.indices.stats(index=o.fragment)\n",
    "print(response)\n",
    "print(f'index status: {response['indices'][o.fragment]['health']}')\n",
    "\n",
    "response = client.cat.allocation()\n",
    "print(response)\n",
    "\n",
    "# response = client.cluster.put_settings(body={'index.routing.allocation.disable_allocation': False})\n",
    "# print(response)\n",
    "# \"number_of_replicas\" : 0\n",
    "\n"
   ]
  },
  {
   "cell_type": "code",
   "execution_count": null,
   "id": "d108cce5-5acb-4842-89ba-9bedd19c9d18",
   "metadata": {},
   "outputs": [],
   "source": [
    "a = torch.rand(int(1e4), 5)\n",
    "print(a.size())"
   ]
  },
  {
   "cell_type": "code",
   "execution_count": null,
   "id": "09630ae4-ca2a-492d-becd-0077faa30991",
   "metadata": {},
   "outputs": [],
   "source": [
    "## add data in a bulk\n",
    "# document list \n",
    "actions = [ {'_index': o.fragment, '_id': i, 'key': i, 'embedding': a[i].tolist() } for i in range(int(5e3)) ] \n",
    "response = helpers.bulk(client=client, actions=actions)\n",
    "print(response)\n",
    "\n",
    "# # document generator\n",
    "actions_gen = map(lambda i: {'_index': o.fragment, '_id': i, 'key': i, 'embedding': a[i].tolist() }, range(int(5e3), int(1e4)) )\n",
    "response = helpers.bulk(client=client, actions=actions_gen)\n",
    "print(response)\n"
   ]
  },
  {
   "cell_type": "code",
   "execution_count": null,
   "id": "26f43bfd",
   "metadata": {},
   "outputs": [],
   "source": [
    "# delete some ids single step\n",
    "ids_to_delete = [4,5,6]\n",
    "for i in ids_to_delete:\n",
    "    try:\n",
    "        response = client.delete(index=o.fragment, id=i)\n",
    "        print(response)\n",
    "    except NotFoundError as err:\n",
    "        print(f'{type(err)}, {err.message}, {err.body}')\n"
   ]
  },
  {
   "cell_type": "code",
   "execution_count": null,
   "id": "896d8aca",
   "metadata": {},
   "outputs": [],
   "source": [
    "# delete multiple ids at once\n",
    "more_ids_to_delete = [40,50,60]\n",
    "response = client.delete_by_query(\n",
    "    index=o.fragment,\n",
    "    query={'terms': {'key': more_ids_to_delete}}\n",
    ")\n",
    "print(response)"
   ]
  },
  {
   "cell_type": "code",
   "execution_count": null,
   "id": "6b0d0def",
   "metadata": {},
   "outputs": [],
   "source": [
    "even_more_ids_to_delete = [41,51,61]\n",
    "response = client.delete_by_query(\n",
    "    index=o.fragment,\n",
    "    query={'terms': {'_id': even_more_ids_to_delete}}\n",
    ")\n",
    "print(response)"
   ]
  },
  {
   "cell_type": "code",
   "execution_count": null,
   "id": "280bb211",
   "metadata": {},
   "outputs": [],
   "source": [
    "# retrieve documents with ID\n",
    "response = client.get(\n",
    "    index=o.fragment, \n",
    "    id=1\n",
    ")\n",
    "print(response)"
   ]
  },
  {
   "cell_type": "code",
   "execution_count": null,
   "id": "1eff9ed3",
   "metadata": {},
   "outputs": [],
   "source": [
    "# get multiple documents with IDs\n",
    "ids_to_retrieve = [0,1,4,5,8,4139812,1]\n",
    "response = client.mget(\n",
    "    index=o.fragment, \n",
    "    ids=ids_to_retrieve\n",
    ")\n",
    "print(response)"
   ]
  },
  {
   "cell_type": "code",
   "execution_count": null,
   "id": "d763957f",
   "metadata": {},
   "outputs": [],
   "source": [
    "b = torch.tensor([d['_source']['embedding'] for d in response['docs'] if d['found']], dtype=torch.float)\n",
    "print(b.size())\n"
   ]
  },
  {
   "cell_type": "code",
   "execution_count": null,
   "id": "39cd117c",
   "metadata": {},
   "outputs": [],
   "source": [
    "# terms api single key\n",
    "response=client.search(\n",
    "    index=o.fragment,\n",
    "    query={'term': {'key': 1}}\n",
    ")\n",
    "print(response)\n"
   ]
  },
  {
   "cell_type": "code",
   "execution_count": null,
   "id": "279a2c7f",
   "metadata": {},
   "outputs": [],
   "source": [
    "# terms api multiple keys\n",
    "response=client.search(\n",
    "    index=o.fragment,\n",
    "    query={'terms': {'key': ids_to_retrieve}}\n",
    ")\n",
    "print(response)"
   ]
  },
  {
   "cell_type": "code",
   "execution_count": null,
   "id": "3d52ce71",
   "metadata": {},
   "outputs": [],
   "source": [
    "# get count \n",
    "response = client.count(index=o.fragment)\n",
    "print(response)"
   ]
  },
  {
   "cell_type": "code",
   "execution_count": null,
   "id": "07f3aae6",
   "metadata": {},
   "outputs": [],
   "source": [
    "# gather some info\n",
    "print(client.info())\n",
    "print(client.cat.health())"
   ]
  },
  {
   "cell_type": "code",
   "execution_count": null,
   "id": "3bb50028",
   "metadata": {},
   "outputs": [],
   "source": [
    "# finally close connections\n",
    "client.close()"
   ]
  },
  {
   "cell_type": "code",
   "execution_count": null,
   "id": "ba1d6b64",
   "metadata": {},
   "outputs": [],
   "source": [
    "# KNN search\n",
    "# response = client.search(\n",
    "#     index=\"someindex\",\n",
    "#     knn={\n",
    "#         \"field\": \"somevectorfield\",\n",
    "#         \"query_vector\": somevectoraslist,\n",
    "#         \"k\": 10,\n",
    "#         \"num_candidates\": 100,\n",
    "#     },\n",
    "# )\n",
    "#\n"
   ]
  },
  {
   "cell_type": "code",
   "execution_count": null,
   "id": "0d927199",
   "metadata": {},
   "outputs": [],
   "source": [
    "# KNN with filter on field\n",
    "# response = client.search(\n",
    "#     index=\"someindex\",\n",
    "#     knn={\n",
    "#         \"field\": \"somevectorfield\",\n",
    "#         \"query_vector\": somevectoraslist,\n",
    "#         \"k\": 10,\n",
    "#         \"num_candidates\": 100,\n",
    "#         \"filter\": {\"term\": {\"somefield\": \"somevalue\"}},\n",
    "#     },\n",
    "# )"
   ]
  },
  {
   "cell_type": "code",
   "execution_count": null,
   "id": "6c20098d",
   "metadata": {},
   "outputs": [],
   "source": [
    "# # KNN with query on field using HYBRID SEARCH (combined result score score)\n",
    "# response = client.search(\n",
    "#     index=\"someindex\",\n",
    "#     size=5,\n",
    "#     query=someelasticquery,\n",
    "#     knn={\n",
    "#         \"field\": \"somevectorfield\",\n",
    "#         \"query_vector\": somevectoraslist,\n",
    "#         \"k\": 5,\n",
    "#         \"num_candidates\": 10,\n",
    "#     },\n",
    "#     rank={\"rrf\": {}},\n",
    "# )"
   ]
  }
 ],
 "metadata": {
  "kernelspec": {
   "display_name": "Python 3 (ipykernel)",
   "language": "python",
   "name": "python3"
  },
  "language_info": {
   "codemirror_mode": {
    "name": "ipython",
    "version": 3
   },
   "file_extension": ".py",
   "mimetype": "text/x-python",
   "name": "python",
   "nbconvert_exporter": "python",
   "pygments_lexer": "ipython3",
   "version": "3.12.3"
  }
 },
 "nbformat": 4,
 "nbformat_minor": 5
}
