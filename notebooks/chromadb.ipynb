{
 "cells": [
  {
   "cell_type": "code",
   "execution_count": null,
   "id": "e924be75",
   "metadata": {},
   "outputs": [],
   "source": [
    "%pip install chromadb-client"
   ]
  },
  {
   "cell_type": "code",
   "execution_count": null,
   "id": "13f7ea27-29c3-4d77-91f8-fcfe23def29e",
   "metadata": {},
   "outputs": [],
   "source": [
    "import chromadb\n",
    "import torch\n",
    "import numpy as np\n",
    "from urllib.parse import urlparse"
   ]
  },
  {
   "cell_type": "code",
   "execution_count": null,
   "id": "dfcbff4c-ccb5-4fde-a2b7-e6f867b4999e",
   "metadata": {},
   "outputs": [],
   "source": [
    "\n",
    "chromaurl = 'chroma://localhost:8000#test_chroma'"
   ]
  },
  {
   "cell_type": "code",
   "execution_count": null,
   "id": "383fea8c-7c51-42fa-8cc7-26484c56204f",
   "metadata": {},
   "outputs": [],
   "source": [
    "o = urlparse(chromaurl, allow_fragments=True)"
   ]
  },
  {
   "cell_type": "code",
   "execution_count": null,
   "id": "a6e0562f-8e92-4105-8c09-31466914f691",
   "metadata": {},
   "outputs": [],
   "source": [
    "print(\n",
    "    o.scheme,\n",
    "    o.hostname,\n",
    "    o.port,\n",
    "    o.path,\n",
    "    o.fragment,\n",
    ")"
   ]
  },
  {
   "cell_type": "code",
   "execution_count": null,
   "id": "20399990-8750-41b0-9313-c967d72161fc",
   "metadata": {},
   "outputs": [],
   "source": [
    "chroma_client = chromadb.HttpClient(host=o.hostname, port=o.port)"
   ]
  },
  {
   "cell_type": "code",
   "execution_count": null,
   "id": "a3eaaaa0",
   "metadata": {},
   "outputs": [],
   "source": [
    "col = chroma_client.get_or_create_collection(o.fragment)"
   ]
  },
  {
   "cell_type": "code",
   "execution_count": null,
   "id": "baae9fa3-1eeb-4b29-bd5a-171e1decbaa1",
   "metadata": {},
   "outputs": [],
   "source": [
    "chroma_client.list_collections()"
   ]
  },
  {
   "cell_type": "code",
   "execution_count": null,
   "id": "d108cce5-5acb-4842-89ba-9bedd19c9d18",
   "metadata": {},
   "outputs": [],
   "source": [
    "a = torch.rand((int(1e4), 5))\n",
    "print(a.shape)\n",
    "\n"
   ]
  },
  {
   "cell_type": "code",
   "execution_count": null,
   "id": "09630ae4-ca2a-492d-becd-0077faa30991",
   "metadata": {},
   "outputs": [],
   "source": [
    "## add data\n",
    "r = col.upsert(\n",
    "    ids=list(map(str, range(int(1e4)))),\n",
    "    embeddings=a.tolist(),\n",
    ")\n"
   ]
  },
  {
   "cell_type": "code",
   "execution_count": null,
   "id": "3de39e01-8a90-4d3b-8f58-2646f424ac2e",
   "metadata": {},
   "outputs": [],
   "source": [
    "col.peek()"
   ]
  },
  {
   "cell_type": "code",
   "execution_count": null,
   "id": "d9322587-7247-4685-b4af-1d0656ae3fb6",
   "metadata": {},
   "outputs": [],
   "source": [
    "r = col.get(ids=['1', '2'], include=['embeddings'])\n",
    "torch.tensor(r['embeddings'])"
   ]
  },
  {
   "cell_type": "code",
   "execution_count": null,
   "id": "eab9cd15-cf95-4ddc-915b-a791d4df54bb",
   "metadata": {},
   "outputs": [],
   "source": [
    "chroma_client.heartbeat()"
   ]
  },
  {
   "cell_type": "code",
   "execution_count": null,
   "id": "29c2afca-2e1f-4cd7-b3e2-4844366784ef",
   "metadata": {},
   "outputs": [],
   "source": [
    "r = col.get(ids=['1', '2'], include=[])\n",
    "# torch.tensor(r['embeddings'])\n",
    "print(r)"
   ]
  },
  {
   "cell_type": "code",
   "execution_count": null,
   "id": "df1288e1-792c-438c-bbb3-08dfb453f947",
   "metadata": {},
   "outputs": [],
   "source": []
  }
 ],
 "metadata": {
  "kernelspec": {
   "display_name": "Python 3 (ipykernel)",
   "language": "python",
   "name": "python3"
  },
  "language_info": {
   "codemirror_mode": {
    "name": "ipython",
    "version": 3
   },
   "file_extension": ".py",
   "mimetype": "text/x-python",
   "name": "python",
   "nbconvert_exporter": "python",
   "pygments_lexer": "ipython3",
   "version": "3.12.3"
  }
 },
 "nbformat": 4,
 "nbformat_minor": 5
}
