{
 "cells": [
  {
   "cell_type": "code",
   "execution_count": null,
   "id": "1a3299ee",
   "metadata": {},
   "outputs": [],
   "source": [
    "%pip install redis"
   ]
  },
  {
   "cell_type": "code",
   "execution_count": null,
   "id": "13f7ea27-29c3-4d77-91f8-fcfe23def29e",
   "metadata": {},
   "outputs": [],
   "source": [
    "import redis\n",
    "import numpy as np\n",
    "import torch\n"
   ]
  },
  {
   "cell_type": "code",
   "execution_count": null,
   "id": "82ebf6fe",
   "metadata": {},
   "outputs": [],
   "source": [
    "#https://redis.io/docs/latest/develop/get-started/\n",
    "\n",
    "dtype_np = np.float32\n",
    "dtype_pt = torch.float32\n",
    "device_embeddings = 'cpu'\n"
   ]
  },
  {
   "cell_type": "code",
   "execution_count": null,
   "id": "20399990-8750-41b0-9313-c967d72161fc",
   "metadata": {},
   "outputs": [],
   "source": [
    "# url='redis://localhost:6379?db=1'\n",
    "# redis_client = redis.from_url(url) # redis.Redis(host=host, port=port, db=dbid)\n",
    "# NOTE: knn index can only be created on db=0!!\n",
    "redis_client = redis.Redis(host=\"localhost\", port=6379, db=0, decode_responses=True)"
   ]
  },
  {
   "cell_type": "code",
   "execution_count": null,
   "id": "acd0578a",
   "metadata": {},
   "outputs": [],
   "source": [
    "try:\n",
    "    res = redis_client.ping()\n",
    "    print(res)\n",
    "except redis.exceptions.ConnectionError as err:\n",
    "    print(err)\n"
   ]
  },
  {
   "cell_type": "code",
   "execution_count": null,
   "id": "d108cce5-5acb-4842-89ba-9bedd19c9d18",
   "metadata": {},
   "outputs": [],
   "source": [
    "dim = 5\n",
    "a = torch.rand(int(1e4),dim)\n",
    "print(a.size())"
   ]
  },
  {
   "cell_type": "code",
   "execution_count": null,
   "id": "09630ae4-ca2a-492d-becd-0077faa30991",
   "metadata": {},
   "outputs": [],
   "source": [
    "# add data\n",
    "pipeline = redis_client.pipeline()\n",
    "for key in range(a.shape[0]):\n",
    "    pipeline.json().set(f'colname:{key}', '$', { 'key': key, 'embedding': a[key].numpy().astype(dtype_np).tolist() })\n",
    "res = pipeline.execute()\n",
    "print(res)"
   ]
  },
  {
   "cell_type": "code",
   "execution_count": null,
   "id": "1237c24d",
   "metadata": {},
   "outputs": [],
   "source": [
    "# res = redis_client.json().get(\"colname:3\", \"$.embedding\")\n",
    "# res = redis_client.json().get(\"colname:3\")\n",
    "# print(res)"
   ]
  },
  {
   "cell_type": "code",
   "execution_count": null,
   "id": "6a8f60f1",
   "metadata": {},
   "outputs": [],
   "source": [
    "# retrieve\n",
    "keys = [987340132, 1,2,3,4,42, 314123412]\n",
    "col_keys = map(lambda k: f'colname:{k}', keys)\n",
    "docs = redis_client.json().mget(col_keys, '$')\n",
    "print(docs)\n"
   ]
  },
  {
   "cell_type": "code",
   "execution_count": null,
   "id": "0c8658fc",
   "metadata": {},
   "outputs": [],
   "source": [
    "# retrieve only embeddings\n",
    "keys = [987340132, 1,2,3,4,42, 314123412]\n",
    "col_keys = map(lambda k: f'colname:{k}', keys)\n",
    "embeddings = redis_client.json().mget(col_keys, '.embedding')\n",
    "print(embeddings)\n",
    "tensors = torch.as_tensor([ e for e in embeddings if e is not None ], dtype=dtype_pt)\n",
    "print(tensors.size())"
   ]
  },
  {
   "cell_type": "code",
   "execution_count": null,
   "id": "886614e6",
   "metadata": {},
   "outputs": [],
   "source": [
    "# contains\n",
    "keys = [12,34,4,54,2398641923]\n",
    "contains = map(lambda k: f'colname:{k}' in redis_client, keys)\n",
    "print(list(contains))"
   ]
  },
  {
   "cell_type": "code",
   "execution_count": null,
   "id": "92c3c8e1",
   "metadata": {},
   "outputs": [],
   "source": [
    "# delete all keys from current DB\n",
    "redis_client.flushdb()"
   ]
  },
  {
   "cell_type": "code",
   "execution_count": null,
   "id": "257828e8",
   "metadata": {},
   "outputs": [],
   "source": [
    "# delete all keys from all DBs\n",
    "redis_client.flushall()"
   ]
  },
  {
   "cell_type": "code",
   "execution_count": null,
   "id": "be9dbbc1",
   "metadata": {},
   "outputs": [],
   "source": [
    "# Prepare KNN search"
   ]
  },
  {
   "cell_type": "code",
   "execution_count": null,
   "id": "0c967a91",
   "metadata": {},
   "outputs": [],
   "source": [
    "from redis.commands.search.field import NumericField, VectorField\n",
    "from redis.commands.search.indexDefinition import IndexDefinition, IndexType\n",
    "from redis.commands.search.query import Query"
   ]
  },
  {
   "cell_type": "code",
   "execution_count": null,
   "id": "377dba6f",
   "metadata": {},
   "outputs": [],
   "source": [
    "# create index\n",
    "schema = (\n",
    "    NumericField(\"$.key\", as_name=\"key\"),\n",
    "    VectorField(\n",
    "        \"$.embedding\",\n",
    "        \"FLAT\",\n",
    "        {\n",
    "            \"TYPE\": \"FLOAT32\",\n",
    "            \"DIM\": dim,\n",
    "            \"DISTANCE_METRIC\": \"COSINE\",\n",
    "        },\n",
    "        as_name=\"vector\",\n",
    "    ),\n",
    ")\n",
    "definition = IndexDefinition(prefix=[\"colname:\"], index_type=IndexType.JSON)\n",
    "res = redis_client.ft(\"idx:colname_vss\").create_index(\n",
    "    fields=schema, definition=definition\n",
    ")"
   ]
  },
  {
   "cell_type": "code",
   "execution_count": null,
   "id": "e181ee7e",
   "metadata": {},
   "outputs": [],
   "source": [
    "info = redis_client.ft(\"idx:colname_vss\").info()\n",
    "num_docs = info[\"num_docs\"]\n",
    "indexing_failures = info[\"hash_indexing_failures\"]\n",
    "print(f\"{num_docs} documents indexed with {indexing_failures} failures\")"
   ]
  },
  {
   "cell_type": "code",
   "execution_count": null,
   "id": "e51abd8b",
   "metadata": {},
   "outputs": [],
   "source": [
    "query = (\n",
    "    Query('(*)=>[KNN 3 @vector $query_vector AS vector_score]')\n",
    "     .sort_by('vector_score')\n",
    "     .return_fields('vector_score', 'key', 'embedding')\n",
    "     .dialect(2)\n",
    ")"
   ]
  },
  {
   "cell_type": "code",
   "execution_count": null,
   "id": "1e8cfc7a",
   "metadata": {},
   "outputs": [],
   "source": [
    "INDEX_NAME = \"idx:colname_vss\"\n",
    "encoded_query = a[1]\n",
    "redis_client.ft(INDEX_NAME).search(query, { 'query_vector': a[1].numpy().astype(dtype_np).tobytes() }).docs"
   ]
  },
  {
   "cell_type": "code",
   "execution_count": null,
   "id": "30acb9ba",
   "metadata": {},
   "outputs": [],
   "source": [
    "# redis_client.ft(INDEX_NAME).dropindex()"
   ]
  }
 ],
 "metadata": {
  "kernelspec": {
   "display_name": "Python 3 (ipykernel)",
   "language": "python",
   "name": "python3"
  },
  "language_info": {
   "codemirror_mode": {
    "name": "ipython",
    "version": 3
   },
   "file_extension": ".py",
   "mimetype": "text/x-python",
   "name": "python",
   "nbconvert_exporter": "python",
   "pygments_lexer": "ipython3",
   "version": "3.1.-1"
  }
 },
 "nbformat": 4,
 "nbformat_minor": 5
}
