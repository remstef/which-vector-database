{
 "cells": [
  {
   "cell_type": "code",
   "execution_count": null,
   "id": "1a3299ee",
   "metadata": {},
   "outputs": [],
   "source": [
    "%pip install weaviate-client"
   ]
  },
  {
   "cell_type": "code",
   "execution_count": null,
   "id": "13f7ea27-29c3-4d77-91f8-fcfe23def29e",
   "metadata": {},
   "outputs": [],
   "source": [
    "import weaviate\n",
    "import uuid\n",
    "from weaviate.classes.init import AdditionalConfig, Timeout\n",
    "from weaviate.classes.config import DataType, VectorDistances, Configure, Property\n",
    "from weaviate.classes.data import DataObject\n",
    "from weaviate.classes.query import Filter, MetadataQuery\n",
    "import torch\n",
    "from urllib.parse import urlparse, parse_qs"
   ]
  },
  {
   "cell_type": "code",
   "execution_count": null,
   "id": "dfcbff4c-ccb5-4fde-a2b7-e6f867b4999e",
   "metadata": {},
   "outputs": [],
   "source": [
    "url = 'weaviate://localhost:8088?grpc=50051#test'"
   ]
  },
  {
   "cell_type": "code",
   "execution_count": null,
   "id": "383fea8c-7c51-42fa-8cc7-26484c56204f",
   "metadata": {},
   "outputs": [],
   "source": [
    "o = urlparse(url, allow_fragments=True)"
   ]
  },
  {
   "cell_type": "code",
   "execution_count": null,
   "id": "a6e0562f-8e92-4105-8c09-31466914f691",
   "metadata": {},
   "outputs": [],
   "source": [
    "print(\n",
    "    o.scheme,\n",
    "    o.hostname,\n",
    "    o.port,\n",
    "    o.path,\n",
    "    o.fragment,\n",
    "    o.query\n",
    ")\n",
    "print(o)\n",
    "qargs = parse_qs(o.query)\n",
    "print(qargs)"
   ]
  },
  {
   "cell_type": "code",
   "execution_count": null,
   "id": "20399990-8750-41b0-9313-c967d72161fc",
   "metadata": {},
   "outputs": [],
   "source": [
    "# with weaviate.connect_to_...() as client:\n",
    "\n",
    "client = weaviate.connect_to_custom(\n",
    "    http_host=o.hostname,\n",
    "    http_port=o.port,\n",
    "    grpc_host=o.hostname,\n",
    "    grpc_port=qargs['grpc'][0],\n",
    "    http_secure=False,\n",
    "    grpc_secure=False,\n",
    "    additional_config=AdditionalConfig(\n",
    "        timeout=Timeout(init=2, query=45, insert=120)  # Values in seconds\n",
    "    )\n",
    ")\n",
    "client.is_ready()\n"
   ]
  },
  {
   "cell_type": "code",
   "execution_count": null,
   "id": "e6133ec2",
   "metadata": {},
   "outputs": [],
   "source": []
  },
  {
   "cell_type": "code",
   "execution_count": null,
   "id": "a3eaaaa0",
   "metadata": {},
   "outputs": [],
   "source": [
    "\n",
    "if client.collections.exists(o.fragment):\n",
    "    print(f\"Collection '{o.fragment}' exists.\")\n",
    "    collection = client.collections.get(o.fragment)\n",
    "    # client.collections.delete(o.fragment)\n",
    "else:\n",
    "    print(f\"Creating collection '{o.fragment}'.\")\n",
    "    collection = client.collections.create(\n",
    "        name=o.fragment,\n",
    "        properties=[\n",
    "            Property(\n",
    "                name='key',\n",
    "                description='Unique ID of vector entry.',\n",
    "                data_type=DataType.INT,\n",
    "            ),\n",
    "        ],\n",
    "        vectorizer_config=Configure.Vectorizer.none(),\n",
    "        vector_index_config=Configure.VectorIndex.hnsw(\n",
    "            distance_metric=VectorDistances.DOT\n",
    "        )\n",
    "    )\n"
   ]
  },
  {
   "cell_type": "code",
   "execution_count": null,
   "id": "d108cce5-5acb-4842-89ba-9bedd19c9d18",
   "metadata": {},
   "outputs": [],
   "source": [
    "a = torch.rand(int(1e4), 5)\n",
    "print(a.size())"
   ]
  },
  {
   "cell_type": "code",
   "execution_count": null,
   "id": "09630ae4-ca2a-492d-becd-0077faa30991",
   "metadata": {},
   "outputs": [],
   "source": [
    "## add data\n",
    "\n",
    "items = [ DataObject(uuid=uuid.UUID(int=i), properties={'key': i}, vector=a[i].tolist()) for i in range(int(1e4)) ]\n",
    "\n",
    "collection.data.insert_many(items)\n"
   ]
  },
  {
   "cell_type": "code",
   "execution_count": null,
   "id": "280bb211",
   "metadata": {},
   "outputs": [],
   "source": [
    "# retrieve vector with ID\n",
    "\n",
    "query_obj_uuid=uuid.UUID(int=3)\n",
    "\n",
    "data_object = collection.query.fetch_object_by_id(\n",
    "    uuid=query_obj_uuid, \n",
    "    include_vector=True, \n",
    "    return_properties=['key'], \n",
    "    return_references=[]\n",
    ")\n",
    "if data_object is None:\n",
    "    print('Object does not exist')\n",
    "else:\n",
    "    print(data_object.properties)\n",
    "    print(data_object.metadata)\n",
    "    print(data_object.references)\n",
    "    print(data_object.vector)\n",
    "\n",
    "print(\"=====\")\n",
    "\n",
    "# above query is similar to below, except that metadata can be omitted here\n",
    "response = collection.query.fetch_objects(\n",
    "    limit=1,\n",
    "    filters=Filter.by_id().equal(query_obj_uuid),\n",
    "    include_vector=True,\n",
    "    return_metadata=[], # [\"creation_time\", \"last_update_time\", \"distance\", \"certainty\", \"score\", \"explain_score\", \"is_consistent\"],\n",
    "    return_properties=['key'],\n",
    "    return_references=[],\n",
    ")\n",
    "\n",
    "if len(response.objects) < 1:\n",
    "    print('Object does not exist')\n",
    "else:\n",
    "    data_object = response.objects[0]\n",
    "    print(data_object.properties)\n",
    "    print(data_object.metadata)\n",
    "    print(data_object.references)\n",
    "    print(data_object.vector)"
   ]
  },
  {
   "cell_type": "code",
   "execution_count": null,
   "id": "24314d1e",
   "metadata": {},
   "outputs": [],
   "source": [
    "# fetch multiple objects\n",
    "\n",
    "keys_to_fetch = [1,2,3,43,34,129846129846]\n",
    "uuids_to_fetch = list(map(lambda key: uuid.UUID(int=key), keys_to_fetch))\n",
    "uuid_filters = list(map(lambda uuid: Filter.by_id().equal(uuid), uuids_to_fetch))"
   ]
  },
  {
   "cell_type": "code",
   "execution_count": null,
   "id": "3b40cc6d",
   "metadata": {},
   "outputs": [],
   "source": [
    "response = collection.query.fetch_objects(\n",
    "    limit=len(keys_to_fetch),\n",
    "    filters=Filter.by_id().contains_any(uuids_to_fetch),\n",
    "    include_vector=True,\n",
    "    return_metadata=[], # [\"creation_time\", \"last_update_time\", \"distance\", \"certainty\", \"score\", \"explain_score\", \"is_consistent\"],\n",
    "    return_properties=['key'],\n",
    "    return_references=[],\n",
    ")\n",
    "\n",
    "print(len(response.objects))\n",
    "print(response)"
   ]
  },
  {
   "cell_type": "code",
   "execution_count": null,
   "id": "6a8f60f1",
   "metadata": {},
   "outputs": [],
   "source": [
    "response = collection.query.fetch_objects(\n",
    "    limit=len(keys_to_fetch),\n",
    "    filters=Filter.by_property(name='key').contains_any(keys_to_fetch),\n",
    "    include_vector=True,\n",
    "    return_metadata=[], # [\"creation_time\", \"last_update_time\", \"distance\", \"certainty\", \"score\", \"explain_score\", \"is_consistent\"],\n",
    "    return_properties=['key'],\n",
    "    return_references=[],\n",
    ")\n",
    "\n",
    "print(len(response.objects))\n",
    "print(response)\n",
    "\n",
    "\n"
   ]
  },
  {
   "cell_type": "code",
   "execution_count": null,
   "id": "87b2e71e",
   "metadata": {},
   "outputs": [],
   "source": [
    "response = collection.query.fetch_objects(\n",
    "    limit=len(keys_to_fetch),\n",
    "    filters=Filter.any_of(uuid_filters),\n",
    "    include_vector=True,\n",
    "    return_metadata=[], # [\"creation_time\", \"last_update_time\", \"distance\", \"certainty\", \"score\", \"explain_score\", \"is_consistent\"],\n",
    "    return_properties=['key'],\n",
    "    return_references=[],\n",
    ")\n",
    "\n",
    "print(len(response.objects))\n",
    "print(response)"
   ]
  },
  {
   "cell_type": "code",
   "execution_count": null,
   "id": "0996180d",
   "metadata": {},
   "outputs": [],
   "source": [
    "\n",
    "client.close()"
   ]
  },
  {
   "cell_type": "code",
   "execution_count": null,
   "id": "d7bcf77c",
   "metadata": {},
   "outputs": [],
   "source": []
  }
 ],
 "metadata": {
  "kernelspec": {
   "display_name": "Python 3 (ipykernel)",
   "language": "python",
   "name": "python3"
  },
  "language_info": {
   "codemirror_mode": {
    "name": "ipython",
    "version": 3
   },
   "file_extension": ".py",
   "mimetype": "text/x-python",
   "name": "python",
   "nbconvert_exporter": "python",
   "pygments_lexer": "ipython3",
   "version": "3.12.3"
  }
 },
 "nbformat": 4,
 "nbformat_minor": 5
}
