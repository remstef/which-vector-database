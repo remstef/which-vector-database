{
 "cells": [
  {
   "cell_type": "code",
   "execution_count": null,
   "id": "1a3299ee",
   "metadata": {},
   "outputs": [],
   "source": [
    "%pip install redis"
   ]
  },
  {
   "cell_type": "code",
   "execution_count": null,
   "id": "13f7ea27-29c3-4d77-91f8-fcfe23def29e",
   "metadata": {},
   "outputs": [],
   "source": [
    "import redis\n",
    "import numpy as np\n",
    "import torch\n",
    "from urllib.parse import urlparse\n"
   ]
  },
  {
   "cell_type": "code",
   "execution_count": null,
   "id": "82ebf6fe",
   "metadata": {},
   "outputs": [],
   "source": [
    "#https://redis.io/docs/latest/develop/get-started/\n",
    "\n",
    "dtype_np = np.float32\n",
    "dtype_pt = torch.float32\n",
    "device_embeddings = 'cpu'\n"
   ]
  },
  {
   "cell_type": "code",
   "execution_count": null,
   "id": "20399990-8750-41b0-9313-c967d72161fc",
   "metadata": {},
   "outputs": [],
   "source": [
    "# url='redis://localhost:6379?db=1'\n",
    "# redis_client = redis.from_url(url) # redis.Redis(host=host, port=port, db=dbid)\n",
    "redis_client = redis.Redis(host=\"localhost\", port=6379, db=1, decode_responses=False)"
   ]
  },
  {
   "cell_type": "code",
   "execution_count": null,
   "id": "acd0578a",
   "metadata": {},
   "outputs": [],
   "source": [
    "try:\n",
    "    res = redis_client.ping()\n",
    "    print(res)\n",
    "except redis.exceptions.ConnectionError as err:\n",
    "    print(err)\n"
   ]
  },
  {
   "cell_type": "code",
   "execution_count": null,
   "id": "a3eaaaa0",
   "metadata": {},
   "outputs": [],
   "source": [
    "def __bytes_to_tensor__(tensor_as_byte):\n",
    "    if tensor_as_byte is None:\n",
    "        return None\n",
    "    tensor_np = np.frombuffer(tensor_as_byte, dtype=dtype_np)\n",
    "    tensor_pt = torch.as_tensor(tensor_np, dtype=dtype_pt, device=device_embeddings)\n",
    "    return tensor_pt\n",
    "\n",
    "def __tensor_to_bytes__(tensor):\n",
    "    if tensor is None:\n",
    "        return None\n",
    "    tensor_np = tensor.cpu().numpy().astype(dtype_np)\n",
    "    tensor_bytes = tensor_np.tobytes()\n",
    "    return tensor_bytes"
   ]
  },
  {
   "cell_type": "code",
   "execution_count": null,
   "id": "d108cce5-5acb-4842-89ba-9bedd19c9d18",
   "metadata": {},
   "outputs": [],
   "source": [
    "a = torch.rand(int(1e4),5)\n",
    "print(a.size())"
   ]
  },
  {
   "cell_type": "code",
   "execution_count": null,
   "id": "09630ae4-ca2a-492d-becd-0077faa30991",
   "metadata": {},
   "outputs": [],
   "source": [
    "# add data\n",
    "item_dict = {key: __tensor_to_bytes__(a[i]) for i, key in enumerate(range(a.shape[0]))}\n",
    "res = redis_client.mset(item_dict)\n",
    "print(res)"
   ]
  },
  {
   "cell_type": "code",
   "execution_count": null,
   "id": "6a8f60f1",
   "metadata": {},
   "outputs": [],
   "source": [
    "# retrieve\n",
    "keys = [987340132, 1,2,3,4,42, 314123412]\n",
    "values = redis_client.mget(keys)\n",
    "tensors = [ __bytes_to_tensor__(value) for value in values if value is not None ]\n",
    "tensors = torch.stack(tensors)\n",
    "print(tensors.size())\n"
   ]
  },
  {
   "cell_type": "code",
   "execution_count": null,
   "id": "886614e6",
   "metadata": {},
   "outputs": [],
   "source": [
    "# contains\n",
    "keys = [12,34,4,54,2398641923]\n",
    "contains = map(redis_client.__contains__, keys)\n",
    "print(list(contains))"
   ]
  },
  {
   "cell_type": "code",
   "execution_count": null,
   "id": "92c3c8e1",
   "metadata": {},
   "outputs": [],
   "source": [
    "# delete all keys from current DB\n",
    "redis_client.flushdb()"
   ]
  },
  {
   "cell_type": "code",
   "execution_count": null,
   "id": "257828e8",
   "metadata": {},
   "outputs": [],
   "source": [
    "# delete all keys from all DBs\n",
    "redis_client.flushall()"
   ]
  },
  {
   "cell_type": "code",
   "execution_count": null,
   "id": "377dba6f",
   "metadata": {},
   "outputs": [],
   "source": []
  }
 ],
 "metadata": {
  "kernelspec": {
   "display_name": "Python 3 (ipykernel)",
   "language": "python",
   "name": "python3"
  },
  "language_info": {
   "codemirror_mode": {
    "name": "ipython",
    "version": 3
   },
   "file_extension": ".py",
   "mimetype": "text/x-python",
   "name": "python",
   "nbconvert_exporter": "python",
   "pygments_lexer": "ipython3",
   "version": "3.1.-1"
  }
 },
 "nbformat": 4,
 "nbformat_minor": 5
}
