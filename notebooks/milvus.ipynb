{
 "cells": [
  {
   "cell_type": "code",
   "execution_count": 1,
   "id": "1a3299ee",
   "metadata": {},
   "outputs": [
    {
     "name": "stdout",
     "output_type": "stream",
     "text": [
      "Requirement already satisfied: pymilvus in /opt/homebrew/anaconda3/envs/gfnc/lib/python3.12/site-packages (2.4.3)\n",
      "Requirement already satisfied: setuptools>=67 in /opt/homebrew/anaconda3/envs/gfnc/lib/python3.12/site-packages (from pymilvus) (69.2.0)\n",
      "Requirement already satisfied: grpcio<=1.63.0,>=1.49.1 in /opt/homebrew/anaconda3/envs/gfnc/lib/python3.12/site-packages (from pymilvus) (1.63.0)\n",
      "Requirement already satisfied: protobuf>=3.20.0 in /opt/homebrew/anaconda3/envs/gfnc/lib/python3.12/site-packages (from pymilvus) (5.26.1)\n",
      "Requirement already satisfied: environs<=9.5.0 in /opt/homebrew/anaconda3/envs/gfnc/lib/python3.12/site-packages (from pymilvus) (9.5.0)\n",
      "Requirement already satisfied: ujson>=2.0.0 in /opt/homebrew/anaconda3/envs/gfnc/lib/python3.12/site-packages (from pymilvus) (5.10.0)\n",
      "Requirement already satisfied: pandas>=1.2.4 in /opt/homebrew/anaconda3/envs/gfnc/lib/python3.12/site-packages (from pymilvus) (2.2.2)\n",
      "Requirement already satisfied: milvus-lite<2.5.0,>=2.4.0 in /opt/homebrew/anaconda3/envs/gfnc/lib/python3.12/site-packages (from pymilvus) (2.4.4)\n",
      "Requirement already satisfied: marshmallow>=3.0.0 in /opt/homebrew/anaconda3/envs/gfnc/lib/python3.12/site-packages (from environs<=9.5.0->pymilvus) (3.21.2)\n",
      "Requirement already satisfied: python-dotenv in /opt/homebrew/anaconda3/envs/gfnc/lib/python3.12/site-packages (from environs<=9.5.0->pymilvus) (1.0.1)\n",
      "Requirement already satisfied: numpy>=1.26.0 in /opt/homebrew/anaconda3/envs/gfnc/lib/python3.12/site-packages (from pandas>=1.2.4->pymilvus) (1.26.4)\n",
      "Requirement already satisfied: python-dateutil>=2.8.2 in /opt/homebrew/anaconda3/envs/gfnc/lib/python3.12/site-packages (from pandas>=1.2.4->pymilvus) (2.9.0)\n",
      "Requirement already satisfied: pytz>=2020.1 in /opt/homebrew/anaconda3/envs/gfnc/lib/python3.12/site-packages (from pandas>=1.2.4->pymilvus) (2024.1)\n",
      "Requirement already satisfied: tzdata>=2022.7 in /opt/homebrew/anaconda3/envs/gfnc/lib/python3.12/site-packages (from pandas>=1.2.4->pymilvus) (2024.1)\n",
      "Requirement already satisfied: packaging>=17.0 in /opt/homebrew/anaconda3/envs/gfnc/lib/python3.12/site-packages (from marshmallow>=3.0.0->environs<=9.5.0->pymilvus) (24.0)\n",
      "Requirement already satisfied: six>=1.5 in /opt/homebrew/anaconda3/envs/gfnc/lib/python3.12/site-packages (from python-dateutil>=2.8.2->pandas>=1.2.4->pymilvus) (1.16.0)\n"
     ]
    }
   ],
   "source": [
    "# requirements\n",
    "# !pip3 install -U protobuf\n",
    "# !pip3 install -U grpcio-tools\n",
    "!pip3 install -U pymilvus"
   ]
  },
  {
   "cell_type": "code",
   "execution_count": 2,
   "id": "21d80ed2",
   "metadata": {},
   "outputs": [],
   "source": [
    "import torch\n",
    "import re\n",
    "from urllib.parse import urlparse, parse_qs"
   ]
  },
  {
   "cell_type": "code",
   "execution_count": 3,
   "id": "0aa42e06",
   "metadata": {},
   "outputs": [],
   "source": [
    "from pymilvus import MilvusClient, DataType\n",
    "from pymilvus.client import types\n"
   ]
  },
  {
   "cell_type": "code",
   "execution_count": 4,
   "id": "dfcbff4c-ccb5-4fde-a2b7-e6f867b4999e",
   "metadata": {},
   "outputs": [],
   "source": [
    "url = 'milvus://localhost:19530?dropifexists#mytestcollection'"
   ]
  },
  {
   "cell_type": "code",
   "execution_count": 5,
   "id": "a6e0562f-8e92-4105-8c09-31466914f691",
   "metadata": {},
   "outputs": [
    {
     "name": "stdout",
     "output_type": "stream",
     "text": [
      "ParseResult(scheme='milvus', netloc='localhost:19530', path='', params='', query='dropifexists', fragment='mytestcollection')\n",
      "{'dropifexists': ['']}\n",
      "http://localhost:19530\n",
      "True\n"
     ]
    }
   ],
   "source": [
    "o = urlparse(url, allow_fragments=True)\n",
    "qargs = parse_qs(o.query, keep_blank_values=True)\n",
    "print(o)\n",
    "print(qargs)\n",
    "\n",
    "\n",
    "# parse dropifexists param\n",
    "milvusuri = f'http://{o.netloc}'\n",
    "drop_if_exists = re.search('(^$)|(^1$)|(^t[rue]{,3}$)|(^y[es]{,2}$)', qargs['dropifexists'][0].lower()) is not None\n",
    "print(milvusuri)\n",
    "print(drop_if_exists)\n"
   ]
  },
  {
   "cell_type": "code",
   "execution_count": 6,
   "id": "20399990-8750-41b0-9313-c967d72161fc",
   "metadata": {},
   "outputs": [],
   "source": [
    "client = MilvusClient(uri=milvusuri)"
   ]
  },
  {
   "cell_type": "code",
   "execution_count": 11,
   "id": "a3eaaaa0",
   "metadata": {},
   "outputs": [
    {
     "name": "stdout",
     "output_type": "stream",
     "text": [
      "Collection 'mytestcollection' exists.\n",
      "dropping\n",
      "re-creating\n",
      "Creating collection 'mytestcollection'.\n"
     ]
    }
   ],
   "source": [
    "def create_collection():\n",
    "    print(f\"Creating collection '{o.fragment}'.\")\n",
    "    schema = client.create_schema(\n",
    "        auto_id=False,\n",
    "        enable_dynamic_fields=True,\n",
    "        description='my-demo',\n",
    "    )\n",
    "    schema.auto_id\n",
    "    schema.add_field(field_name='id', datatype=DataType.INT64, is_primary=True)\n",
    "    schema.add_field(field_name='embedding', datatype=DataType.FLOAT_VECTOR, dim=5)\n",
    "    index_params = client.prepare_index_params()\n",
    "    index_params.add_index(\n",
    "        index_name='ix_id',\n",
    "        field_name='id',\n",
    "        index_type='STL_SORT'\n",
    "    )\n",
    "    index_params.add_index(\n",
    "        index_name='ix_embedding',\n",
    "        field_name='embedding', \n",
    "        index_type='FLAT', # IVF_FLAT, FLAT (HNSW most accurate, needs lots of memory)\n",
    "        metric_type='IP', # Inner Product (DOT product)\n",
    "        # params={ \"nlist\": 128 } # nlist for IVF_FLAT: rule-of-thumb: 4 × sqrt(n), where n is the total number of entities in a segment\n",
    "    )\n",
    "    # NOTE: omit index if used as vector store\n",
    "    # Index can also be created afterwards with: client.create_index(collection_name=o.fragment, index_params=index_params)\n",
    "    client.create_collection(\n",
    "        collection_name=o.fragment, \n",
    "        schema=schema,\n",
    "        index_params=index_params,\n",
    "        consistency_level='Strong'\n",
    "    )\n",
    "\n",
    "\n",
    "if client.has_collection(o.fragment):\n",
    "    print(f\"Collection '{o.fragment}' exists.\")\n",
    "    if drop_if_exists:\n",
    "        print('dropping')\n",
    "        client.release_collection(o.fragment)\n",
    "        client.drop_index(collection_name=o.fragment, index_name='ix_id')\n",
    "        client.drop_index(collection_name=o.fragment, index_name='ix_embedding')\n",
    "        client.drop_collection(o.fragment)\n",
    "        #\n",
    "        print('re-creating')\n",
    "        create_collection()\n",
    "\n",
    "else:\n",
    "    create_collection()\n"
   ]
  },
  {
   "cell_type": "code",
   "execution_count": 12,
   "id": "6df05e1a",
   "metadata": {},
   "outputs": [
    {
     "name": "stdout",
     "output_type": "stream",
     "text": [
      "{'state': <LoadState: Loaded>}\n",
      "<enum 'LoadState'>\n",
      "Loaded\n"
     ]
    }
   ],
   "source": [
    "# client.load_collection(o.fragment)\n",
    "res = client.get_load_state(collection_name=o.fragment)\n",
    "print(res)\n",
    "print(type(res['state']))\n",
    "print(res['state'])\n",
    "if not res['state'] is types.LoadState.Loaded:\n",
    "    client.load_collection(o.fragment)\n"
   ]
  },
  {
   "cell_type": "code",
   "execution_count": 13,
   "id": "d108cce5-5acb-4842-89ba-9bedd19c9d18",
   "metadata": {},
   "outputs": [
    {
     "name": "stdout",
     "output_type": "stream",
     "text": [
      "torch.Size([10000, 5])\n"
     ]
    }
   ],
   "source": [
    "a = torch.rand(int(1e4), 5)\n",
    "print(a.size())"
   ]
  },
  {
   "cell_type": "code",
   "execution_count": 14,
   "id": "09630ae4-ca2a-492d-becd-0077faa30991",
   "metadata": {},
   "outputs": [
    {
     "name": "stdout",
     "output_type": "stream",
     "text": [
      "{'upsert_count': 10000, 'cost': 0}\n"
     ]
    }
   ],
   "source": [
    "## add data as dict\n",
    "items = [ { 'id': i, 'embedding': a[i].tolist() } for i in range(int(1e4)) ]\n",
    "response = client.upsert( # response = client.upsert(collection_name, data)\n",
    "    collection_name=o.fragment,\n",
    "    data=items,\n",
    ")\n",
    "print(response)\n"
   ]
  },
  {
   "cell_type": "code",
   "execution_count": 15,
   "id": "26f43bfd",
   "metadata": {},
   "outputs": [
    {
     "name": "stdout",
     "output_type": "stream",
     "text": [
      "{'delete_count': 3, 'cost': 0}\n"
     ]
    }
   ],
   "source": [
    "# delete some ids\n",
    "res = client.delete(\n",
    "    collection_name=o.fragment,\n",
    "    filter=\"id in [4,5,6]\"\n",
    ")\n",
    "print(res)"
   ]
  },
  {
   "cell_type": "code",
   "execution_count": 16,
   "id": "280bb211",
   "metadata": {},
   "outputs": [
    {
     "name": "stdout",
     "output_type": "stream",
     "text": [
      "<class 'pymilvus.client.types.ExtraList'>\n",
      "data: [\"{'id': 2, 'embedding': [0.59710294, 0.071541786, 0.4234277, 0.5326187, 0.9026033]}\", \"{'id': 8, 'embedding': [0.9033468, 0.03219813, 0.36276805, 0.05650401, 0.8147099]}\"] , extra_info: {'cost': 0}\n",
      "{'cost': 0}\n",
      "2\n"
     ]
    }
   ],
   "source": [
    "# retrieve vector with ID\n",
    "query_ids = [2,4,6,8, 1746812548123]\n",
    "res = client.get(\n",
    "    collection_name=o.fragment,\n",
    "    ids=query_ids,\n",
    "    output_fields=[ 'id', 'embedding' ]\n",
    ")\n",
    "print(type(res))\n",
    "print(res)\n",
    "print(res.extra)\n",
    "print(len(res))"
   ]
  },
  {
   "cell_type": "code",
   "execution_count": 17,
   "id": "d763957f",
   "metadata": {},
   "outputs": [
    {
     "name": "stdout",
     "output_type": "stream",
     "text": [
      "torch.Size([2, 5])\n"
     ]
    }
   ],
   "source": [
    "b = torch.tensor([e['embedding'] for e in res], dtype=torch.float)\n",
    "print(b.size())\n"
   ]
  },
  {
   "cell_type": "code",
   "execution_count": 18,
   "id": "0b1fd945",
   "metadata": {},
   "outputs": [
    {
     "name": "stdout",
     "output_type": "stream",
     "text": [
      "<class 'pymilvus.client.types.ExtraList'>\n",
      "data: [\"{'id': 2, 'embedding': [0.59710294, 0.071541786, 0.4234277, 0.5326187, 0.9026033]}\", \"{'id': 8, 'embedding': [0.9033468, 0.03219813, 0.36276805, 0.05650401, 0.8147099]}\"] , extra_info: {'cost': 0}\n",
      "{'cost': 0}\n",
      "2\n"
     ]
    }
   ],
   "source": [
    "# default query\n",
    "res = client.query(\n",
    "    collection_name=o.fragment,\n",
    "    filter=f\"id in {str(query_ids)}\", \n",
    "    output_fields=[ 'id', 'embedding' ]\n",
    ")\n",
    "print(type(res))\n",
    "print(res)\n",
    "print(res.extra)\n",
    "print(len(res))"
   ]
  },
  {
   "cell_type": "code",
   "execution_count": 19,
   "id": "cf144a03",
   "metadata": {},
   "outputs": [
    {
     "name": "stdout",
     "output_type": "stream",
     "text": [
      "data: [\"{'count(*)': 9997}\"] , extra_info: {'cost': 0}\n"
     ]
    }
   ],
   "source": [
    "# count\n",
    "res = client.query(\n",
    "    collection_name=o.fragment,\n",
    "    filter=\"\", \n",
    "    output_fields = [ 'count(*)' ],\n",
    ")\n",
    "print(res)"
   ]
  },
  {
   "cell_type": "code",
   "execution_count": 20,
   "id": "f34b03fd",
   "metadata": {},
   "outputs": [
    {
     "data": {
      "text/plain": [
       "{'row_count': 0}"
      ]
     },
     "execution_count": 20,
     "metadata": {},
     "output_type": "execute_result"
    }
   ],
   "source": [
    "client.get_collection_stats(collection_name=o.fragment)"
   ]
  },
  {
   "cell_type": "code",
   "execution_count": 21,
   "id": "41add810",
   "metadata": {},
   "outputs": [
    {
     "data": {
      "text/plain": [
       "{'collection_name': 'mytestcollection',\n",
       " 'auto_id': False,\n",
       " 'num_shards': 1,\n",
       " 'description': 'my-demo',\n",
       " 'fields': [{'field_id': 100,\n",
       "   'name': 'id',\n",
       "   'description': '',\n",
       "   'type': <DataType.INT64: 5>,\n",
       "   'params': {},\n",
       "   'is_primary': True},\n",
       "  {'field_id': 101,\n",
       "   'name': 'embedding',\n",
       "   'description': '',\n",
       "   'type': <DataType.FLOAT_VECTOR: 101>,\n",
       "   'params': {'dim': 5}}],\n",
       " 'aliases': [],\n",
       " 'collection_id': 449916994455277962,\n",
       " 'consistency_level': 0,\n",
       " 'properties': {},\n",
       " 'num_partitions': 1,\n",
       " 'enable_dynamic_field': False}"
      ]
     },
     "execution_count": 21,
     "metadata": {},
     "output_type": "execute_result"
    }
   ],
   "source": [
    "client.describe_collection(collection_name=o.fragment)"
   ]
  },
  {
   "cell_type": "code",
   "execution_count": 22,
   "id": "ea06f66c",
   "metadata": {},
   "outputs": [],
   "source": [
    "client.close()"
   ]
  }
 ],
 "metadata": {
  "kernelspec": {
   "display_name": "Python 3 (ipykernel)",
   "language": "python",
   "name": "python3"
  },
  "language_info": {
   "codemirror_mode": {
    "name": "ipython",
    "version": 3
   },
   "file_extension": ".py",
   "mimetype": "text/x-python",
   "name": "python",
   "nbconvert_exporter": "python",
   "pygments_lexer": "ipython3",
   "version": "3.12.3"
  }
 },
 "nbformat": 4,
 "nbformat_minor": 5
}
