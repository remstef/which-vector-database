{
 "cells": [
  {
   "cell_type": "code",
   "execution_count": null,
   "id": "1a3299ee",
   "metadata": {},
   "outputs": [],
   "source": [
    "%pip install qdrant_client"
   ]
  },
  {
   "cell_type": "code",
   "execution_count": null,
   "id": "13f7ea27-29c3-4d77-91f8-fcfe23def29e",
   "metadata": {},
   "outputs": [],
   "source": [
    "from qdrant_client import QdrantClient\n",
    "from qdrant_client.http import models\n",
    "import torch\n",
    "from urllib.parse import urlparse\n"
   ]
  },
  {
   "cell_type": "code",
   "execution_count": null,
   "id": "dfcbff4c-ccb5-4fde-a2b7-e6f867b4999e",
   "metadata": {},
   "outputs": [],
   "source": [
    "qdranturl = 'qdrant://localhost:6333#test_qdrant'"
   ]
  },
  {
   "cell_type": "code",
   "execution_count": null,
   "id": "383fea8c-7c51-42fa-8cc7-26484c56204f",
   "metadata": {},
   "outputs": [],
   "source": [
    "o = urlparse(qdranturl, allow_fragments=True)"
   ]
  },
  {
   "cell_type": "code",
   "execution_count": null,
   "id": "a6e0562f-8e92-4105-8c09-31466914f691",
   "metadata": {},
   "outputs": [],
   "source": [
    "print(\n",
    "    o.scheme,\n",
    "    o.hostname,\n",
    "    o.port,\n",
    "    o.path,\n",
    "    o.fragment,\n",
    ")"
   ]
  },
  {
   "cell_type": "code",
   "execution_count": null,
   "id": "20399990-8750-41b0-9313-c967d72161fc",
   "metadata": {},
   "outputs": [],
   "source": [
    "client = QdrantClient(host=o.hostname, port=o.port, grpc_port=(o.port+1), prefer_grpc=True)"
   ]
  },
  {
   "cell_type": "code",
   "execution_count": null,
   "id": "acd0578a",
   "metadata": {},
   "outputs": [],
   "source": [
    "try:\n",
    "    client.get_collections()[0]\n",
    "    print(\"Qdrant server is alive and running\")\n",
    "except Exception as e:\n",
    "    print(f\"Error connecting to Qdrant server: {e}\")"
   ]
  },
  {
   "cell_type": "code",
   "execution_count": null,
   "id": "a3eaaaa0",
   "metadata": {},
   "outputs": [],
   "source": [
    "if client.collection_exists(collection_name=o.fragment):\n",
    "    print('collection exists')\n",
    "else:\n",
    "    print('collection does not exist')\n",
    "    client.create_collection(\n",
    "        collection_name=o.fragment,\n",
    "        vectors_config=models.VectorParams(size=5, distance=models.Distance.COSINE),\n",
    "    )\n",
    "\n",
    "collection_info = client.get_collection(collection_name=o.fragment)\n",
    "print(list(collection_info))\n",
    "\n",
    "# PUT /collections/benchmark \n",
    "# {\n",
    "#   \"vectors\": {\n",
    "#     ...\n",
    "#     \"on_disk\": true\n",
    "#   },\n",
    "#   \"hnsw_config\": {\n",
    "#     \"on_disk\": true\n",
    "#   },\n",
    "#   ...\n",
    "# }\n"
   ]
  },
  {
   "cell_type": "code",
   "execution_count": null,
   "id": "d108cce5-5acb-4842-89ba-9bedd19c9d18",
   "metadata": {},
   "outputs": [],
   "source": [
    "a = torch.rand(int(1e4),5)\n",
    "print(a.size())"
   ]
  },
  {
   "cell_type": "code",
   "execution_count": null,
   "id": "09630ae4-ca2a-492d-becd-0077faa30991",
   "metadata": {},
   "outputs": [],
   "source": [
    "## add half of data\n",
    "operation_info = client.upsert(\n",
    "    collection_name=o.fragment,\n",
    "    wait=True,\n",
    "    points=[models.PointStruct(id=i, vector=a[i]) for i in range(int(5e3))]\n",
    ")\n",
    "print(operation_info)\n",
    "\n"
   ]
  },
  {
   "cell_type": "code",
   "execution_count": null,
   "id": "6a8f60f1",
   "metadata": {},
   "outputs": [],
   "source": [
    "# add other half of data batched\n",
    "operation_info = client.upsert(\n",
    "    collection_name=o.fragment,\n",
    "    wait=True,\n",
    "    points=models.Batch(\n",
    "        ids=list(range(int(5e3), int(1e4))),\n",
    "        vectors=a[int(5e3):]\n",
    "    )\n",
    ")\n",
    "print(operation_info)"
   ]
  },
  {
   "cell_type": "code",
   "execution_count": null,
   "id": "886614e6",
   "metadata": {},
   "outputs": [],
   "source": [
    "result = client.retrieve(\n",
    "    collection_name=o.fragment,\n",
    "    ids=[12],\n",
    "    with_vectors=True,\n",
    "    with_payload=False\n",
    ")"
   ]
  },
  {
   "cell_type": "code",
   "execution_count": null,
   "id": "a7063478",
   "metadata": {},
   "outputs": [],
   "source": [
    "print(len(result))\n",
    "print(result[0].id)\n",
    "print(torch.tensor(result[0].vector, dtype=torch.float32))"
   ]
  },
  {
   "cell_type": "code",
   "execution_count": null,
   "id": "c18635df",
   "metadata": {},
   "outputs": [],
   "source": [
    "collection_info = client.get_collection(collection_name=o.fragment)\n",
    "print(collection_info)"
   ]
  },
  {
   "cell_type": "code",
   "execution_count": null,
   "id": "92c3c8e1",
   "metadata": {},
   "outputs": [],
   "source": []
  }
 ],
 "metadata": {
  "kernelspec": {
   "display_name": "Python 3 (ipykernel)",
   "language": "python",
   "name": "python3"
  },
  "language_info": {
   "codemirror_mode": {
    "name": "ipython",
    "version": 3
   },
   "file_extension": ".py",
   "mimetype": "text/x-python",
   "name": "python",
   "nbconvert_exporter": "python",
   "pygments_lexer": "ipython3",
   "version": "3.1.-1"
  }
 },
 "nbformat": 4,
 "nbformat_minor": 5
}
